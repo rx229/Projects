{
 "cells": [
  {
   "cell_type": "markdown",
   "metadata": {},
   "source": [
    "# Titanic Machine Learning Competition\n",
    "\n",
    "A simple solution to the Kaggle Titanic Competition:\n",
    "\n",
    "\"*Use the Titanic passenger data (name, age, price of ticket, etc) to try to predict who will survive and who will die*\"\n"
   ]
  },
  {
   "cell_type": "markdown",
   "metadata": {},
   "source": [
    "## Set Up"
   ]
  },
  {
   "cell_type": "code",
   "execution_count": 4,
   "metadata": {},
   "outputs": [],
   "source": [
    "# Data Analysis\n",
    "import numpy as np\n",
    "import pandas as pd\n",
    "\n",
    "# Plotting\n",
    "import seaborn as sns\n",
    "from matplotlib import pyplot as plt\n",
    "\n",
    "#Scaling\n",
    "from sklearn.preprocessing import StandardScaler\n",
    "from sklearn.preprocessing import OneHotEncoder\n",
    "\n",
    "# ML Models\n",
    "from sklearn.tree import DecisionTreeClassifier\n",
    "from sklearn.ensemble import RandomForestClassifier\n",
    "from sklearn.linear_model import LogisticRegression\n",
    "from sklearn.neighbors import KNeighborsClassifier\n",
    "\n",
    "# Tuning\n",
    "from sklearn.model_selection import StratifiedKFold\n",
    "from sklearn.model_selection import GridSearchCV \n",
    "\n",
    "\n",
    "#Filter unnecessary warnings\n",
    "import warnings\n",
    "warnings.filterwarnings('ignore')\n",
    "\n",
    "# set seed for reproducibility\n",
    "np.random.seed(0)"
   ]
  },
  {
   "cell_type": "code",
   "execution_count": 5,
   "metadata": {},
   "outputs": [
    {
     "data": {
      "text/html": [
       "<div>\n",
       "<style scoped>\n",
       "    .dataframe tbody tr th:only-of-type {\n",
       "        vertical-align: middle;\n",
       "    }\n",
       "\n",
       "    .dataframe tbody tr th {\n",
       "        vertical-align: top;\n",
       "    }\n",
       "\n",
       "    .dataframe thead th {\n",
       "        text-align: right;\n",
       "    }\n",
       "</style>\n",
       "<table border=\"1\" class=\"dataframe\">\n",
       "  <thead>\n",
       "    <tr style=\"text-align: right;\">\n",
       "      <th></th>\n",
       "      <th>PassengerId</th>\n",
       "      <th>Survived</th>\n",
       "      <th>Pclass</th>\n",
       "      <th>Name</th>\n",
       "      <th>Sex</th>\n",
       "      <th>Age</th>\n",
       "      <th>SibSp</th>\n",
       "      <th>Parch</th>\n",
       "      <th>Ticket</th>\n",
       "      <th>Fare</th>\n",
       "      <th>Cabin</th>\n",
       "      <th>Embarked</th>\n",
       "    </tr>\n",
       "  </thead>\n",
       "  <tbody>\n",
       "    <tr>\n",
       "      <th>0</th>\n",
       "      <td>1</td>\n",
       "      <td>0</td>\n",
       "      <td>3</td>\n",
       "      <td>Braund, Mr. Owen Harris</td>\n",
       "      <td>male</td>\n",
       "      <td>22.0</td>\n",
       "      <td>1</td>\n",
       "      <td>0</td>\n",
       "      <td>A/5 21171</td>\n",
       "      <td>7.2500</td>\n",
       "      <td>NaN</td>\n",
       "      <td>S</td>\n",
       "    </tr>\n",
       "    <tr>\n",
       "      <th>1</th>\n",
       "      <td>2</td>\n",
       "      <td>1</td>\n",
       "      <td>1</td>\n",
       "      <td>Cumings, Mrs. John Bradley (Florence Briggs Th...</td>\n",
       "      <td>female</td>\n",
       "      <td>38.0</td>\n",
       "      <td>1</td>\n",
       "      <td>0</td>\n",
       "      <td>PC 17599</td>\n",
       "      <td>71.2833</td>\n",
       "      <td>C85</td>\n",
       "      <td>C</td>\n",
       "    </tr>\n",
       "    <tr>\n",
       "      <th>2</th>\n",
       "      <td>3</td>\n",
       "      <td>1</td>\n",
       "      <td>3</td>\n",
       "      <td>Heikkinen, Miss. Laina</td>\n",
       "      <td>female</td>\n",
       "      <td>26.0</td>\n",
       "      <td>0</td>\n",
       "      <td>0</td>\n",
       "      <td>STON/O2. 3101282</td>\n",
       "      <td>7.9250</td>\n",
       "      <td>NaN</td>\n",
       "      <td>S</td>\n",
       "    </tr>\n",
       "    <tr>\n",
       "      <th>3</th>\n",
       "      <td>4</td>\n",
       "      <td>1</td>\n",
       "      <td>1</td>\n",
       "      <td>Futrelle, Mrs. Jacques Heath (Lily May Peel)</td>\n",
       "      <td>female</td>\n",
       "      <td>35.0</td>\n",
       "      <td>1</td>\n",
       "      <td>0</td>\n",
       "      <td>113803</td>\n",
       "      <td>53.1000</td>\n",
       "      <td>C123</td>\n",
       "      <td>S</td>\n",
       "    </tr>\n",
       "    <tr>\n",
       "      <th>4</th>\n",
       "      <td>5</td>\n",
       "      <td>0</td>\n",
       "      <td>3</td>\n",
       "      <td>Allen, Mr. William Henry</td>\n",
       "      <td>male</td>\n",
       "      <td>35.0</td>\n",
       "      <td>0</td>\n",
       "      <td>0</td>\n",
       "      <td>373450</td>\n",
       "      <td>8.0500</td>\n",
       "      <td>NaN</td>\n",
       "      <td>S</td>\n",
       "    </tr>\n",
       "  </tbody>\n",
       "</table>\n",
       "</div>"
      ],
      "text/plain": [
       "   PassengerId  Survived  Pclass  \\\n",
       "0            1         0       3   \n",
       "1            2         1       1   \n",
       "2            3         1       3   \n",
       "3            4         1       1   \n",
       "4            5         0       3   \n",
       "\n",
       "                                                Name     Sex   Age  SibSp  \\\n",
       "0                            Braund, Mr. Owen Harris    male  22.0      1   \n",
       "1  Cumings, Mrs. John Bradley (Florence Briggs Th...  female  38.0      1   \n",
       "2                             Heikkinen, Miss. Laina  female  26.0      0   \n",
       "3       Futrelle, Mrs. Jacques Heath (Lily May Peel)  female  35.0      1   \n",
       "4                           Allen, Mr. William Henry    male  35.0      0   \n",
       "\n",
       "   Parch            Ticket     Fare Cabin Embarked  \n",
       "0      0         A/5 21171   7.2500   NaN        S  \n",
       "1      0          PC 17599  71.2833   C85        C  \n",
       "2      0  STON/O2. 3101282   7.9250   NaN        S  \n",
       "3      0            113803  53.1000  C123        S  \n",
       "4      0            373450   8.0500   NaN        S  "
      ]
     },
     "execution_count": 5,
     "metadata": {},
     "output_type": "execute_result"
    }
   ],
   "source": [
    "#import csv into pd - training data\n",
    "train_data = pd.read_csv('train.csv')\n",
    "\n",
    "#import csv into pd - test data\n",
    "test_data = pd.read_csv('test.csv')\n",
    "test_data2 = pd.read_csv('test.csv') #control purposes\n",
    "\n",
    "train_data.head()"
   ]
  },
  {
   "cell_type": "code",
   "execution_count": 6,
   "metadata": {},
   "outputs": [],
   "source": [
    "#Concat both sets together for "
   ]
  },
  {
   "cell_type": "markdown",
   "metadata": {},
   "source": [
    "# Project Planning"
   ]
  },
  {
   "cell_type": "markdown",
   "metadata": {},
   "source": [
    "**1. Data Exploration**\n",
    "\n",
    "- Understand nature of data (.describe(), .info(), value counts)\n",
    "- Histograms and boxplots\n",
    "\n",
    "**2. Exploratory Data Analysis**\n",
    "\n",
    "- Correlation between feautres\n",
    "- Feature engineering\n",
    "\n",
    "**3. Data Preprocessing**\n",
    "\n",
    "- Data cleaning\n",
    "     - Imputing data\n",
    "     - Dropping Null values\n",
    "\n",
    "**4. ML Modelling**\n",
    "- Model Building"
   ]
  },
  {
   "cell_type": "markdown",
   "metadata": {},
   "source": [
    "## 1. Data Exploration"
   ]
  },
  {
   "cell_type": "code",
   "execution_count": 4,
   "metadata": {},
   "outputs": [
    {
     "name": "stdout",
     "output_type": "stream",
     "text": [
      "Training data :  (891, 12)\n",
      "Test data :  (418, 11)\n"
     ]
    }
   ],
   "source": [
    "#Shapes of the dataset\n",
    "print(\"Training data : \", train_data.shape)\n",
    "print(\"Test data : \",  test_data.shape)"
   ]
  },
  {
   "cell_type": "markdown",
   "metadata": {},
   "source": [
    "**Notes**\n",
    "- Train data has one more column - Survived"
   ]
  },
  {
   "cell_type": "code",
   "execution_count": 5,
   "metadata": {},
   "outputs": [
    {
     "name": "stdout",
     "output_type": "stream",
     "text": [
      "<class 'pandas.core.frame.DataFrame'>\n",
      "RangeIndex: 891 entries, 0 to 890\n",
      "Data columns (total 12 columns):\n",
      " #   Column       Non-Null Count  Dtype  \n",
      "---  ------       --------------  -----  \n",
      " 0   PassengerId  891 non-null    int64  \n",
      " 1   Survived     891 non-null    int64  \n",
      " 2   Pclass       891 non-null    int64  \n",
      " 3   Name         891 non-null    object \n",
      " 4   Sex          891 non-null    object \n",
      " 5   Age          714 non-null    float64\n",
      " 6   SibSp        891 non-null    int64  \n",
      " 7   Parch        891 non-null    int64  \n",
      " 8   Ticket       891 non-null    object \n",
      " 9   Fare         891 non-null    float64\n",
      " 10  Cabin        204 non-null    object \n",
      " 11  Embarked     889 non-null    object \n",
      "dtypes: float64(2), int64(5), object(5)\n",
      "memory usage: 83.7+ KB\n"
     ]
    },
    {
     "data": {
      "text/plain": [
       "PassengerId      0\n",
       "Survived         0\n",
       "Pclass           0\n",
       "Name             0\n",
       "Sex              0\n",
       "Age            177\n",
       "SibSp            0\n",
       "Parch            0\n",
       "Ticket           0\n",
       "Fare             0\n",
       "Cabin          687\n",
       "Embarked         2\n",
       "dtype: int64"
      ]
     },
     "execution_count": 5,
     "metadata": {},
     "output_type": "execute_result"
    }
   ],
   "source": [
    "#looking for numerical or caterogrical data\n",
    "train_data.info()\n",
    "#sum all null values\n",
    "train_data.isnull().sum()"
   ]
  },
  {
   "cell_type": "code",
   "execution_count": 6,
   "metadata": {},
   "outputs": [
    {
     "name": "stdout",
     "output_type": "stream",
     "text": [
      "<class 'pandas.core.frame.DataFrame'>\n",
      "RangeIndex: 418 entries, 0 to 417\n",
      "Data columns (total 11 columns):\n",
      " #   Column       Non-Null Count  Dtype  \n",
      "---  ------       --------------  -----  \n",
      " 0   PassengerId  418 non-null    int64  \n",
      " 1   Pclass       418 non-null    int64  \n",
      " 2   Name         418 non-null    object \n",
      " 3   Sex          418 non-null    object \n",
      " 4   Age          332 non-null    float64\n",
      " 5   SibSp        418 non-null    int64  \n",
      " 6   Parch        418 non-null    int64  \n",
      " 7   Ticket       418 non-null    object \n",
      " 8   Fare         417 non-null    float64\n",
      " 9   Cabin        91 non-null     object \n",
      " 10  Embarked     418 non-null    object \n",
      "dtypes: float64(2), int64(4), object(5)\n",
      "memory usage: 36.0+ KB\n"
     ]
    },
    {
     "data": {
      "text/plain": [
       "PassengerId      0\n",
       "Pclass           0\n",
       "Name             0\n",
       "Sex              0\n",
       "Age             86\n",
       "SibSp            0\n",
       "Parch            0\n",
       "Ticket           0\n",
       "Fare             1\n",
       "Cabin          327\n",
       "Embarked         0\n",
       "dtype: int64"
      ]
     },
     "execution_count": 6,
     "metadata": {},
     "output_type": "execute_result"
    }
   ],
   "source": [
    "#looking for numerical or caterogrical data\n",
    "test_data.info()\n",
    "#sum all null values\n",
    "test_data.isnull().sum()"
   ]
  },
  {
   "cell_type": "markdown",
   "metadata": {},
   "source": [
    "**Notes**\n",
    "- Both numerical and catergorical data types:\n",
    "\n",
    "    - **Numerical** (numerical values) : PassengerId, Age, SibSp, Parch, Fare\n",
    "    - **Catergorical** (discrete labelled groups) : Survived, Pclass, Sex, Ticket, Cabin, Embarked\n",
    "    \n",
    "- Cabin, Age have significant missing values, Embarked has only 2 values missing and 1 Fare in test data. Embarked can be dropped and Fare and Age can be imputed.\n",
    "\n",
    "- PassengerId is just a count, no pattern, dropped"
   ]
  },
  {
   "cell_type": "code",
   "execution_count": 7,
   "metadata": {},
   "outputs": [
    {
     "data": {
      "text/html": [
       "<div>\n",
       "<style scoped>\n",
       "    .dataframe tbody tr th:only-of-type {\n",
       "        vertical-align: middle;\n",
       "    }\n",
       "\n",
       "    .dataframe tbody tr th {\n",
       "        vertical-align: top;\n",
       "    }\n",
       "\n",
       "    .dataframe thead th {\n",
       "        text-align: right;\n",
       "    }\n",
       "</style>\n",
       "<table border=\"1\" class=\"dataframe\">\n",
       "  <thead>\n",
       "    <tr style=\"text-align: right;\">\n",
       "      <th></th>\n",
       "      <th>PassengerId</th>\n",
       "      <th>Survived</th>\n",
       "      <th>Pclass</th>\n",
       "      <th>Age</th>\n",
       "      <th>SibSp</th>\n",
       "      <th>Parch</th>\n",
       "      <th>Fare</th>\n",
       "    </tr>\n",
       "  </thead>\n",
       "  <tbody>\n",
       "    <tr>\n",
       "      <th>count</th>\n",
       "      <td>891.000000</td>\n",
       "      <td>891.000000</td>\n",
       "      <td>891.000000</td>\n",
       "      <td>714.000000</td>\n",
       "      <td>891.000000</td>\n",
       "      <td>891.000000</td>\n",
       "      <td>891.000000</td>\n",
       "    </tr>\n",
       "    <tr>\n",
       "      <th>mean</th>\n",
       "      <td>446.000000</td>\n",
       "      <td>0.383838</td>\n",
       "      <td>2.308642</td>\n",
       "      <td>29.699118</td>\n",
       "      <td>0.523008</td>\n",
       "      <td>0.381594</td>\n",
       "      <td>32.204208</td>\n",
       "    </tr>\n",
       "    <tr>\n",
       "      <th>std</th>\n",
       "      <td>257.353842</td>\n",
       "      <td>0.486592</td>\n",
       "      <td>0.836071</td>\n",
       "      <td>14.526497</td>\n",
       "      <td>1.102743</td>\n",
       "      <td>0.806057</td>\n",
       "      <td>49.693429</td>\n",
       "    </tr>\n",
       "    <tr>\n",
       "      <th>min</th>\n",
       "      <td>1.000000</td>\n",
       "      <td>0.000000</td>\n",
       "      <td>1.000000</td>\n",
       "      <td>0.420000</td>\n",
       "      <td>0.000000</td>\n",
       "      <td>0.000000</td>\n",
       "      <td>0.000000</td>\n",
       "    </tr>\n",
       "    <tr>\n",
       "      <th>25%</th>\n",
       "      <td>223.500000</td>\n",
       "      <td>0.000000</td>\n",
       "      <td>2.000000</td>\n",
       "      <td>20.125000</td>\n",
       "      <td>0.000000</td>\n",
       "      <td>0.000000</td>\n",
       "      <td>7.910400</td>\n",
       "    </tr>\n",
       "    <tr>\n",
       "      <th>50%</th>\n",
       "      <td>446.000000</td>\n",
       "      <td>0.000000</td>\n",
       "      <td>3.000000</td>\n",
       "      <td>28.000000</td>\n",
       "      <td>0.000000</td>\n",
       "      <td>0.000000</td>\n",
       "      <td>14.454200</td>\n",
       "    </tr>\n",
       "    <tr>\n",
       "      <th>75%</th>\n",
       "      <td>668.500000</td>\n",
       "      <td>1.000000</td>\n",
       "      <td>3.000000</td>\n",
       "      <td>38.000000</td>\n",
       "      <td>1.000000</td>\n",
       "      <td>0.000000</td>\n",
       "      <td>31.000000</td>\n",
       "    </tr>\n",
       "    <tr>\n",
       "      <th>max</th>\n",
       "      <td>891.000000</td>\n",
       "      <td>1.000000</td>\n",
       "      <td>3.000000</td>\n",
       "      <td>80.000000</td>\n",
       "      <td>8.000000</td>\n",
       "      <td>6.000000</td>\n",
       "      <td>512.329200</td>\n",
       "    </tr>\n",
       "  </tbody>\n",
       "</table>\n",
       "</div>"
      ],
      "text/plain": [
       "       PassengerId    Survived      Pclass         Age       SibSp  \\\n",
       "count   891.000000  891.000000  891.000000  714.000000  891.000000   \n",
       "mean    446.000000    0.383838    2.308642   29.699118    0.523008   \n",
       "std     257.353842    0.486592    0.836071   14.526497    1.102743   \n",
       "min       1.000000    0.000000    1.000000    0.420000    0.000000   \n",
       "25%     223.500000    0.000000    2.000000   20.125000    0.000000   \n",
       "50%     446.000000    0.000000    3.000000   28.000000    0.000000   \n",
       "75%     668.500000    1.000000    3.000000   38.000000    1.000000   \n",
       "max     891.000000    1.000000    3.000000   80.000000    8.000000   \n",
       "\n",
       "            Parch        Fare  \n",
       "count  891.000000  891.000000  \n",
       "mean     0.381594   32.204208  \n",
       "std      0.806057   49.693429  \n",
       "min      0.000000    0.000000  \n",
       "25%      0.000000    7.910400  \n",
       "50%      0.000000   14.454200  \n",
       "75%      0.000000   31.000000  \n",
       "max      6.000000  512.329200  "
      ]
     },
     "execution_count": 7,
     "metadata": {},
     "output_type": "execute_result"
    }
   ],
   "source": [
    "#describe numerical data\n",
    "train_data.describe()"
   ]
  },
  {
   "cell_type": "code",
   "execution_count": 8,
   "metadata": {},
   "outputs": [
    {
     "data": {
      "text/html": [
       "<div>\n",
       "<style scoped>\n",
       "    .dataframe tbody tr th:only-of-type {\n",
       "        vertical-align: middle;\n",
       "    }\n",
       "\n",
       "    .dataframe tbody tr th {\n",
       "        vertical-align: top;\n",
       "    }\n",
       "\n",
       "    .dataframe thead th {\n",
       "        text-align: right;\n",
       "    }\n",
       "</style>\n",
       "<table border=\"1\" class=\"dataframe\">\n",
       "  <thead>\n",
       "    <tr style=\"text-align: right;\">\n",
       "      <th></th>\n",
       "      <th>Name</th>\n",
       "      <th>Sex</th>\n",
       "      <th>Ticket</th>\n",
       "      <th>Cabin</th>\n",
       "      <th>Embarked</th>\n",
       "    </tr>\n",
       "  </thead>\n",
       "  <tbody>\n",
       "    <tr>\n",
       "      <th>count</th>\n",
       "      <td>891</td>\n",
       "      <td>891</td>\n",
       "      <td>891</td>\n",
       "      <td>204</td>\n",
       "      <td>889</td>\n",
       "    </tr>\n",
       "    <tr>\n",
       "      <th>unique</th>\n",
       "      <td>891</td>\n",
       "      <td>2</td>\n",
       "      <td>681</td>\n",
       "      <td>147</td>\n",
       "      <td>3</td>\n",
       "    </tr>\n",
       "    <tr>\n",
       "      <th>top</th>\n",
       "      <td>Bourke, Miss. Mary</td>\n",
       "      <td>male</td>\n",
       "      <td>CA. 2343</td>\n",
       "      <td>G6</td>\n",
       "      <td>S</td>\n",
       "    </tr>\n",
       "    <tr>\n",
       "      <th>freq</th>\n",
       "      <td>1</td>\n",
       "      <td>577</td>\n",
       "      <td>7</td>\n",
       "      <td>4</td>\n",
       "      <td>644</td>\n",
       "    </tr>\n",
       "  </tbody>\n",
       "</table>\n",
       "</div>"
      ],
      "text/plain": [
       "                      Name   Sex    Ticket Cabin Embarked\n",
       "count                  891   891       891   204      889\n",
       "unique                 891     2       681   147        3\n",
       "top     Bourke, Miss. Mary  male  CA. 2343    G6        S\n",
       "freq                     1   577         7     4      644"
      ]
     },
     "execution_count": 8,
     "metadata": {},
     "output_type": "execute_result"
    }
   ],
   "source": [
    "#describe categorical data\n",
    "train_data.describe(include=['O'])"
   ]
  },
  {
   "cell_type": "markdown",
   "metadata": {},
   "source": [
    "**Note**\n",
    "\n",
    "- Lots of Ticket and Cabin duplicates"
   ]
  },
  {
   "cell_type": "markdown",
   "metadata": {},
   "source": [
    "**Continous or Discrete?**"
   ]
  },
  {
   "cell_type": "code",
   "execution_count": 24,
   "metadata": {},
   "outputs": [
    {
     "data": {
      "text/plain": [
       "['Survived', 'Pclass', 'Age', 'SibSp', 'Parch', 'Fare']"
      ]
     },
     "execution_count": 24,
     "metadata": {},
     "output_type": "execute_result"
    }
   ],
   "source": [
    "numerical=[features for features in train_data.columns if train_data[features].dtypes!='O']\n",
    "numerical.remove('PassengerId')\n",
    "numerical"
   ]
  },
  {
   "cell_type": "code",
   "execution_count": 25,
   "metadata": {},
   "outputs": [
    {
     "data": {
      "text/plain": [
       "['Survived', 'Pclass', 'SibSp', 'Parch']"
      ]
     },
     "execution_count": 25,
     "metadata": {},
     "output_type": "execute_result"
    }
   ],
   "source": [
    "discrete=[feature for feature in numerical if len(train_data[feature].unique())<25] #less than 25 unique values\n",
    "discrete"
   ]
  },
  {
   "cell_type": "code",
   "execution_count": 26,
   "metadata": {},
   "outputs": [
    {
     "data": {
      "text/plain": [
       "['Age', 'Fare']"
      ]
     },
     "execution_count": 26,
     "metadata": {},
     "output_type": "execute_result"
    }
   ],
   "source": [
    "continous=[feature for feature in numerical if feature not in discrete]\n",
    "continous"
   ]
  },
  {
   "cell_type": "code",
   "execution_count": 27,
   "metadata": {},
   "outputs": [
    {
     "data": {
      "text/plain": [
       "['Name', 'Sex', 'Ticket', 'Cabin', 'Embarked']"
      ]
     },
     "execution_count": 27,
     "metadata": {},
     "output_type": "execute_result"
    }
   ],
   "source": [
    "categorical = [feature for feature in train_data.columns if feature not in numerical]\n",
    "categorical.remove('PassengerId')\n",
    "categorical"
   ]
  },
  {
   "cell_type": "code",
   "execution_count": 28,
   "metadata": {},
   "outputs": [
    {
     "data": {
      "text/plain": [
       "['Name',\n",
       " 'Sex',\n",
       " 'Ticket',\n",
       " 'Cabin',\n",
       " 'Embarked',\n",
       " 'Survived',\n",
       " 'Pclass',\n",
       " 'SibSp',\n",
       " 'Parch']"
      ]
     },
     "execution_count": 28,
     "metadata": {},
     "output_type": "execute_result"
    }
   ],
   "source": [
    "categorical = categorical + discrete\n",
    "categorical"
   ]
  },
  {
   "cell_type": "markdown",
   "metadata": {},
   "source": [
    "#### Numerical Analysis"
   ]
  },
  {
   "cell_type": "code",
   "execution_count": 22,
   "metadata": {},
   "outputs": [
    {
     "data": {
      "image/png": "[encoded data removed]",
      "text/plain": [
       "<Figure size 432x288 with 1 Axes>"
      ]
     },
     "metadata": {
      "needs_background": "light"
     },
     "output_type": "display_data"
    },
    {
     "data": {
      "image/png": "[encoded data removed]",
      "text/plain": [
       "<Figure size 432x288 with 1 Axes>"
      ]
     },
     "metadata": {
      "needs_background": "light"
     },
     "output_type": "display_data"
    }
   ],
   "source": [
    "#For loop to print histograms for numerical data\n",
    "for i in continous:\n",
    "    plt.hist(train_data[i])\n",
    "    plt.title(i)\n",
    "    plt.show()"
   ]
  },
  {
   "cell_type": "markdown",
   "metadata": {},
   "source": [
    "From the histograms we can observe both Parch, SibSp and Fare are heavily **right skewed** while Age seems relatively normal. Parch, SibSp and Fare to be normalised."
   ]
  },
  {
   "cell_type": "code",
   "execution_count": 10,
   "metadata": {},
   "outputs": [
    {
     "data": {
      "image/png": "[encoded data removed]",
      "text/plain": [
       "<Figure size 432x288 with 1 Axes>"
      ]
     },
     "metadata": {
      "needs_background": "light"
     },
     "output_type": "display_data"
    },
    {
     "data": {
      "image/png": "[encoded data removed]",
      "text/plain": [
       "<Figure size 432x288 with 1 Axes>"
      ]
     },
     "metadata": {
      "needs_background": "light"
     },
     "output_type": "display_data"
    },
    {
     "data": {
      "image/png": "[encoded data removed]",
      "text/plain": [
       "<Figure size 432x288 with 1 Axes>"
      ]
     },
     "metadata": {
      "needs_background": "light"
     },
     "output_type": "display_data"
    }
   ],
   "source": [
    "train_data['Fare_log'] = np.log(train_data.Fare+1)\n",
    "plt.hist(train_data['Fare_log'])\n",
    "plt.title('Fare_log')\n",
    "plt.show()"
   ]
  },
  {
   "cell_type": "markdown",
   "metadata": {},
   "source": [
    "**Note**\n",
    "\n",
    "Fare normalised with a log function, unable to make normal Parch or Sibsp"
   ]
  },
  {
   "cell_type": "code",
   "execution_count": 11,
   "metadata": {},
   "outputs": [
    {
     "data": {
      "image/png": "[encoded data removed]",
      "text/plain": [
       "<Figure size 864x576 with 2 Axes>"
      ]
     },
     "metadata": {
      "needs_background": "light"
     },
     "output_type": "display_data"
    }
   ],
   "source": [
    "#add survival to list\n",
    "numerical.append('Survived')\n",
    "\n",
    "plt.subplots(figsize=(12,8))\n",
    "sns.heatmap(train_data[numerical].corr(), annot=True)\n",
    "plt.show()"
   ]
  },
  {
   "cell_type": "markdown",
   "metadata": {},
   "source": [
    "**Observations**\n",
    "\n",
    "Age seems to have moderate **negative correlation** Parch and SibSp : Older people tend to travel alone?\n",
    "\n",
    "High **positive correlation** between Parch and SibSp : Families tend to travel together?\n"
   ]
  },
  {
   "cell_type": "code",
   "execution_count": 12,
   "metadata": {},
   "outputs": [
    {
     "data": {
      "text/html": [
       "<style  type=\"text/css\" >\n",
       "#T_198c26e0_1e8c_11ec_aa48_00249b6a1b9arow0_col0{\n",
       "            background-color:  #67000d;\n",
       "            color:  #f1f1f1;\n",
       "        }#T_198c26e0_1e8c_11ec_aa48_00249b6a1b9arow1_col0{\n",
       "            background-color:  #fff5f0;\n",
       "            color:  #000000;\n",
       "        }</style><table id=\"T_198c26e0_1e8c_11ec_aa48_00249b6a1b9a\" ><thead>    <tr>        <th class=\"blank level0\" ></th>        <th class=\"col_heading level0 col0\" >Survived</th>    </tr>    <tr>        <th class=\"index_name level0\" >Age</th>        <th class=\"blank\" ></th>    </tr></thead><tbody>\n",
       "                <tr>\n",
       "                        <th id=\"T_198c26e0_1e8c_11ec_aa48_00249b6a1b9alevel0_row0\" class=\"row_heading level0 row0\" >(0, 18]</th>\n",
       "                        <td id=\"T_198c26e0_1e8c_11ec_aa48_00249b6a1b9arow0_col0\" class=\"data row0 col0\" >0.503597</td>\n",
       "            </tr>\n",
       "            <tr>\n",
       "                        <th id=\"T_198c26e0_1e8c_11ec_aa48_00249b6a1b9alevel0_row1\" class=\"row_heading level0 row1\" >(18, 80]</th>\n",
       "                        <td id=\"T_198c26e0_1e8c_11ec_aa48_00249b6a1b9arow1_col0\" class=\"data row1 col0\" >0.382609</td>\n",
       "            </tr>\n",
       "    </tbody></table>"
      ],
      "text/plain": [
       "<pandas.io.formats.style.Styler at 0x2bcc70db670>"
      ]
     },
     "metadata": {},
     "output_type": "display_data"
    }
   ],
   "source": [
    "age = pd.cut(train_data['Age'], [0, 18, 80])\n",
    "display(pd.pivot_table(train_data, index=age, values = 'Survived').style.background_gradient(cmap='Reds'))"
   ]
  },
  {
   "cell_type": "markdown",
   "metadata": {},
   "source": [
    "When seperating age into 2 categories (children and adult), children seemed to have a higher survival rate"
   ]
  },
  {
   "cell_type": "markdown",
   "metadata": {},
   "source": [
    "#### Categorical Analysis"
   ]
  },
  {
   "cell_type": "code",
   "execution_count": 29,
   "metadata": {},
   "outputs": [
    {
     "data": {
      "image/png": "[encoded data removed]",
      "text/plain": [
       "<Figure size 432x288 with 1 Axes>"
      ]
     },
     "metadata": {
      "needs_background": "light"
     },
     "output_type": "display_data"
    },
    {
     "data": {
      "image/png": "[encoded data removed]",
      "text/plain": [
       "<Figure size 432x288 with 1 Axes>"
      ]
     },
     "metadata": {
      "needs_background": "light"
     },
     "output_type": "display_data"
    },
    {
     "data": {
      "image/png": "[encoded data removed]",
      "text/plain": [
       "<Figure size 432x288 with 1 Axes>"
      ]
     },
     "metadata": {
      "needs_background": "light"
     },
     "output_type": "display_data"
    },
    {
     "data": {
      "image/png": "[encoded data removed]",
      "text/plain": [
       "<Figure size 432x288 with 1 Axes>"
      ]
     },
     "metadata": {
      "needs_background": "light"
     },
     "output_type": "display_data"
    },
    {
     "data": {
      "image/png": "[encoded data removed]",
      "text/plain": [
       "<Figure size 432x288 with 1 Axes>"
      ]
     },
     "metadata": {
      "needs_background": "light"
     },
     "output_type": "display_data"
    },
    {
     "data": {
      "image/png": "[encoded data removed]",
      "text/plain": [
       "<Figure size 432x288 with 1 Axes>"
      ]
     },
     "metadata": {
      "needs_background": "light"
     },
     "output_type": "display_data"
    }
   ],
   "source": [
    "categorical.remove('Ticket')\n",
    "categorical.remove('Cabin')\n",
    "categorical.remove('Name')\n",
    "#Left out, gets messy\n",
    "\n",
    "#Easy way of doing count bar charts\n",
    "for i in categorical:\n",
    "    sns.countplot(train_data[i], data=train_data).set_title(i)\n",
    "    plt.show()"
   ]
  },
  {
   "cell_type": "code",
   "execution_count": 30,
   "metadata": {},
   "outputs": [
    {
     "data": {
      "text/html": [
       "<style  type=\"text/css\" >\n",
       "#T_f7b41cb7_1e9a_11ec_a306_00249b6a1b9arow0_col0{\n",
       "            background-color:  #67000d;\n",
       "            color:  #f1f1f1;\n",
       "        }#T_f7b41cb7_1e9a_11ec_a306_00249b6a1b9arow1_col0{\n",
       "            background-color:  #fff5f0;\n",
       "            color:  #000000;\n",
       "        }</style><table id=\"T_f7b41cb7_1e9a_11ec_a306_00249b6a1b9a\" ><thead>    <tr>        <th class=\"blank level0\" ></th>        <th class=\"col_heading level0 col0\" >Survived</th>    </tr>    <tr>        <th class=\"index_name level0\" >Sex</th>        <th class=\"blank\" ></th>    </tr></thead><tbody>\n",
       "                <tr>\n",
       "                        <th id=\"T_f7b41cb7_1e9a_11ec_a306_00249b6a1b9alevel0_row0\" class=\"row_heading level0 row0\" >female</th>\n",
       "                        <td id=\"T_f7b41cb7_1e9a_11ec_a306_00249b6a1b9arow0_col0\" class=\"data row0 col0\" >0.742038</td>\n",
       "            </tr>\n",
       "            <tr>\n",
       "                        <th id=\"T_f7b41cb7_1e9a_11ec_a306_00249b6a1b9alevel0_row1\" class=\"row_heading level0 row1\" >male</th>\n",
       "                        <td id=\"T_f7b41cb7_1e9a_11ec_a306_00249b6a1b9arow1_col0\" class=\"data row1 col0\" >0.188908</td>\n",
       "            </tr>\n",
       "    </tbody></table>"
      ],
      "text/plain": [
       "<pandas.io.formats.style.Styler at 0x1d521055250>"
      ]
     },
     "metadata": {},
     "output_type": "display_data"
    },
    {
     "data": {
      "text/html": [
       "<style  type=\"text/css\" >\n",
       "#T_f7b55547_1e9a_11ec_a5e2_00249b6a1b9arow0_col0{\n",
       "            background-color:  #67000d;\n",
       "            color:  #f1f1f1;\n",
       "        }#T_f7b55547_1e9a_11ec_a5e2_00249b6a1b9arow1_col0{\n",
       "            background-color:  #fcbda4;\n",
       "            color:  #000000;\n",
       "        }#T_f7b55547_1e9a_11ec_a5e2_00249b6a1b9arow2_col0{\n",
       "            background-color:  #fff5f0;\n",
       "            color:  #000000;\n",
       "        }</style><table id=\"T_f7b55547_1e9a_11ec_a5e2_00249b6a1b9a\" ><thead>    <tr>        <th class=\"blank level0\" ></th>        <th class=\"col_heading level0 col0\" >Survived</th>    </tr>    <tr>        <th class=\"index_name level0\" >Embarked</th>        <th class=\"blank\" ></th>    </tr></thead><tbody>\n",
       "                <tr>\n",
       "                        <th id=\"T_f7b55547_1e9a_11ec_a5e2_00249b6a1b9alevel0_row0\" class=\"row_heading level0 row0\" >C</th>\n",
       "                        <td id=\"T_f7b55547_1e9a_11ec_a5e2_00249b6a1b9arow0_col0\" class=\"data row0 col0\" >0.553571</td>\n",
       "            </tr>\n",
       "            <tr>\n",
       "                        <th id=\"T_f7b55547_1e9a_11ec_a5e2_00249b6a1b9alevel0_row1\" class=\"row_heading level0 row1\" >Q</th>\n",
       "                        <td id=\"T_f7b55547_1e9a_11ec_a5e2_00249b6a1b9arow1_col0\" class=\"data row1 col0\" >0.389610</td>\n",
       "            </tr>\n",
       "            <tr>\n",
       "                        <th id=\"T_f7b55547_1e9a_11ec_a5e2_00249b6a1b9alevel0_row2\" class=\"row_heading level0 row2\" >S</th>\n",
       "                        <td id=\"T_f7b55547_1e9a_11ec_a5e2_00249b6a1b9arow2_col0\" class=\"data row2 col0\" >0.336957</td>\n",
       "            </tr>\n",
       "    </tbody></table>"
      ],
      "text/plain": [
       "<pandas.io.formats.style.Styler at 0x1d5211c2b80>"
      ]
     },
     "metadata": {},
     "output_type": "display_data"
    },
    {
     "data": {
      "text/html": [
       "<style  type=\"text/css\" >\n",
       "#T_f7b66616_1e9a_11ec_994f_00249b6a1b9arow0_col0{\n",
       "            background-color:  #67000d;\n",
       "            color:  #f1f1f1;\n",
       "        }#T_f7b66616_1e9a_11ec_994f_00249b6a1b9arow1_col0{\n",
       "            background-color:  #f24633;\n",
       "            color:  #000000;\n",
       "        }#T_f7b66616_1e9a_11ec_994f_00249b6a1b9arow2_col0{\n",
       "            background-color:  #fff5f0;\n",
       "            color:  #000000;\n",
       "        }</style><table id=\"T_f7b66616_1e9a_11ec_994f_00249b6a1b9a\" ><thead>    <tr>        <th class=\"blank level0\" ></th>        <th class=\"col_heading level0 col0\" >Survived</th>    </tr>    <tr>        <th class=\"index_name level0\" >Pclass</th>        <th class=\"blank\" ></th>    </tr></thead><tbody>\n",
       "                <tr>\n",
       "                        <th id=\"T_f7b66616_1e9a_11ec_994f_00249b6a1b9alevel0_row0\" class=\"row_heading level0 row0\" >1</th>\n",
       "                        <td id=\"T_f7b66616_1e9a_11ec_994f_00249b6a1b9arow0_col0\" class=\"data row0 col0\" >0.629630</td>\n",
       "            </tr>\n",
       "            <tr>\n",
       "                        <th id=\"T_f7b66616_1e9a_11ec_994f_00249b6a1b9alevel0_row1\" class=\"row_heading level0 row1\" >2</th>\n",
       "                        <td id=\"T_f7b66616_1e9a_11ec_994f_00249b6a1b9arow1_col0\" class=\"data row1 col0\" >0.472826</td>\n",
       "            </tr>\n",
       "            <tr>\n",
       "                        <th id=\"T_f7b66616_1e9a_11ec_994f_00249b6a1b9alevel0_row2\" class=\"row_heading level0 row2\" >3</th>\n",
       "                        <td id=\"T_f7b66616_1e9a_11ec_994f_00249b6a1b9arow2_col0\" class=\"data row2 col0\" >0.242363</td>\n",
       "            </tr>\n",
       "    </tbody></table>"
      ],
      "text/plain": [
       "<pandas.io.formats.style.Styler at 0x1d5216d22e0>"
      ]
     },
     "metadata": {},
     "output_type": "display_data"
    },
    {
     "data": {
      "text/html": [
       "<style  type=\"text/css\" >\n",
       "#T_f7b79f22_1e9a_11ec_93e0_00249b6a1b9arow0_col0{\n",
       "            background-color:  #e93529;\n",
       "            color:  #f1f1f1;\n",
       "        }#T_f7b79f22_1e9a_11ec_93e0_00249b6a1b9arow1_col0{\n",
       "            background-color:  #67000d;\n",
       "            color:  #f1f1f1;\n",
       "        }#T_f7b79f22_1e9a_11ec_93e0_00249b6a1b9arow2_col0{\n",
       "            background-color:  #a81016;\n",
       "            color:  #f1f1f1;\n",
       "        }#T_f7b79f22_1e9a_11ec_93e0_00249b6a1b9arow3_col0{\n",
       "            background-color:  #fb7555;\n",
       "            color:  #000000;\n",
       "        }#T_f7b79f22_1e9a_11ec_93e0_00249b6a1b9arow4_col0{\n",
       "            background-color:  #fca78b;\n",
       "            color:  #000000;\n",
       "        }#T_f7b79f22_1e9a_11ec_93e0_00249b6a1b9arow5_col0,#T_f7b79f22_1e9a_11ec_93e0_00249b6a1b9arow6_col0{\n",
       "            background-color:  #fff5f0;\n",
       "            color:  #000000;\n",
       "        }</style><table id=\"T_f7b79f22_1e9a_11ec_93e0_00249b6a1b9a\" ><thead>    <tr>        <th class=\"blank level0\" ></th>        <th class=\"col_heading level0 col0\" >Survived</th>    </tr>    <tr>        <th class=\"index_name level0\" >SibSp</th>        <th class=\"blank\" ></th>    </tr></thead><tbody>\n",
       "                <tr>\n",
       "                        <th id=\"T_f7b79f22_1e9a_11ec_93e0_00249b6a1b9alevel0_row0\" class=\"row_heading level0 row0\" >0</th>\n",
       "                        <td id=\"T_f7b79f22_1e9a_11ec_93e0_00249b6a1b9arow0_col0\" class=\"data row0 col0\" >0.345395</td>\n",
       "            </tr>\n",
       "            <tr>\n",
       "                        <th id=\"T_f7b79f22_1e9a_11ec_93e0_00249b6a1b9alevel0_row1\" class=\"row_heading level0 row1\" >1</th>\n",
       "                        <td id=\"T_f7b79f22_1e9a_11ec_93e0_00249b6a1b9arow1_col0\" class=\"data row1 col0\" >0.535885</td>\n",
       "            </tr>\n",
       "            <tr>\n",
       "                        <th id=\"T_f7b79f22_1e9a_11ec_93e0_00249b6a1b9alevel0_row2\" class=\"row_heading level0 row2\" >2</th>\n",
       "                        <td id=\"T_f7b79f22_1e9a_11ec_93e0_00249b6a1b9arow2_col0\" class=\"data row2 col0\" >0.464286</td>\n",
       "            </tr>\n",
       "            <tr>\n",
       "                        <th id=\"T_f7b79f22_1e9a_11ec_93e0_00249b6a1b9alevel0_row3\" class=\"row_heading level0 row3\" >3</th>\n",
       "                        <td id=\"T_f7b79f22_1e9a_11ec_93e0_00249b6a1b9arow3_col0\" class=\"data row3 col0\" >0.250000</td>\n",
       "            </tr>\n",
       "            <tr>\n",
       "                        <th id=\"T_f7b79f22_1e9a_11ec_93e0_00249b6a1b9alevel0_row4\" class=\"row_heading level0 row4\" >4</th>\n",
       "                        <td id=\"T_f7b79f22_1e9a_11ec_93e0_00249b6a1b9arow4_col0\" class=\"data row4 col0\" >0.166667</td>\n",
       "            </tr>\n",
       "            <tr>\n",
       "                        <th id=\"T_f7b79f22_1e9a_11ec_93e0_00249b6a1b9alevel0_row5\" class=\"row_heading level0 row5\" >5</th>\n",
       "                        <td id=\"T_f7b79f22_1e9a_11ec_93e0_00249b6a1b9arow5_col0\" class=\"data row5 col0\" >0.000000</td>\n",
       "            </tr>\n",
       "            <tr>\n",
       "                        <th id=\"T_f7b79f22_1e9a_11ec_93e0_00249b6a1b9alevel0_row6\" class=\"row_heading level0 row6\" >8</th>\n",
       "                        <td id=\"T_f7b79f22_1e9a_11ec_93e0_00249b6a1b9arow6_col0\" class=\"data row6 col0\" >0.000000</td>\n",
       "            </tr>\n",
       "    </tbody></table>"
      ],
      "text/plain": [
       "<pandas.io.formats.style.Styler at 0x1d5216d25b0>"
      ]
     },
     "metadata": {},
     "output_type": "display_data"
    },
    {
     "data": {
      "text/html": [
       "<style  type=\"text/css\" >\n",
       "#T_f7b8fe62_1e9a_11ec_afec_00249b6a1b9arow0_col0{\n",
       "            background-color:  #f44f39;\n",
       "            color:  #000000;\n",
       "        }#T_f7b8fe62_1e9a_11ec_afec_00249b6a1b9arow1_col0{\n",
       "            background-color:  #8e0912;\n",
       "            color:  #f1f1f1;\n",
       "        }#T_f7b8fe62_1e9a_11ec_afec_00249b6a1b9arow2_col0{\n",
       "            background-color:  #b11218;\n",
       "            color:  #f1f1f1;\n",
       "        }#T_f7b8fe62_1e9a_11ec_afec_00249b6a1b9arow3_col0{\n",
       "            background-color:  #67000d;\n",
       "            color:  #f1f1f1;\n",
       "        }#T_f7b8fe62_1e9a_11ec_afec_00249b6a1b9arow4_col0,#T_f7b8fe62_1e9a_11ec_afec_00249b6a1b9arow6_col0{\n",
       "            background-color:  #fff5f0;\n",
       "            color:  #000000;\n",
       "        }#T_f7b8fe62_1e9a_11ec_afec_00249b6a1b9arow5_col0{\n",
       "            background-color:  #fca082;\n",
       "            color:  #000000;\n",
       "        }</style><table id=\"T_f7b8fe62_1e9a_11ec_afec_00249b6a1b9a\" ><thead>    <tr>        <th class=\"blank level0\" ></th>        <th class=\"col_heading level0 col0\" >Survived</th>    </tr>    <tr>        <th class=\"index_name level0\" >Parch</th>        <th class=\"blank\" ></th>    </tr></thead><tbody>\n",
       "                <tr>\n",
       "                        <th id=\"T_f7b8fe62_1e9a_11ec_afec_00249b6a1b9alevel0_row0\" class=\"row_heading level0 row0\" >0</th>\n",
       "                        <td id=\"T_f7b8fe62_1e9a_11ec_afec_00249b6a1b9arow0_col0\" class=\"data row0 col0\" >0.343658</td>\n",
       "            </tr>\n",
       "            <tr>\n",
       "                        <th id=\"T_f7b8fe62_1e9a_11ec_afec_00249b6a1b9alevel0_row1\" class=\"row_heading level0 row1\" >1</th>\n",
       "                        <td id=\"T_f7b8fe62_1e9a_11ec_afec_00249b6a1b9arow1_col0\" class=\"data row1 col0\" >0.550847</td>\n",
       "            </tr>\n",
       "            <tr>\n",
       "                        <th id=\"T_f7b8fe62_1e9a_11ec_afec_00249b6a1b9alevel0_row2\" class=\"row_heading level0 row2\" >2</th>\n",
       "                        <td id=\"T_f7b8fe62_1e9a_11ec_afec_00249b6a1b9arow2_col0\" class=\"data row2 col0\" >0.500000</td>\n",
       "            </tr>\n",
       "            <tr>\n",
       "                        <th id=\"T_f7b8fe62_1e9a_11ec_afec_00249b6a1b9alevel0_row3\" class=\"row_heading level0 row3\" >3</th>\n",
       "                        <td id=\"T_f7b8fe62_1e9a_11ec_afec_00249b6a1b9arow3_col0\" class=\"data row3 col0\" >0.600000</td>\n",
       "            </tr>\n",
       "            <tr>\n",
       "                        <th id=\"T_f7b8fe62_1e9a_11ec_afec_00249b6a1b9alevel0_row4\" class=\"row_heading level0 row4\" >4</th>\n",
       "                        <td id=\"T_f7b8fe62_1e9a_11ec_afec_00249b6a1b9arow4_col0\" class=\"data row4 col0\" >0.000000</td>\n",
       "            </tr>\n",
       "            <tr>\n",
       "                        <th id=\"T_f7b8fe62_1e9a_11ec_afec_00249b6a1b9alevel0_row5\" class=\"row_heading level0 row5\" >5</th>\n",
       "                        <td id=\"T_f7b8fe62_1e9a_11ec_afec_00249b6a1b9arow5_col0\" class=\"data row5 col0\" >0.200000</td>\n",
       "            </tr>\n",
       "            <tr>\n",
       "                        <th id=\"T_f7b8fe62_1e9a_11ec_afec_00249b6a1b9alevel0_row6\" class=\"row_heading level0 row6\" >6</th>\n",
       "                        <td id=\"T_f7b8fe62_1e9a_11ec_afec_00249b6a1b9arow6_col0\" class=\"data row6 col0\" >0.000000</td>\n",
       "            </tr>\n",
       "    </tbody></table>"
      ],
      "text/plain": [
       "<pandas.io.formats.style.Styler at 0x1d521331c10>"
      ]
     },
     "metadata": {},
     "output_type": "display_data"
    }
   ],
   "source": [
    "for i in categorical:\n",
    "    if i != 'Survived':\n",
    "        display(pd.pivot_table(train_data, index=train_data[i], values ='Survived').style.background_gradient(cmap='Reds'))"
   ]
  },
  {
   "cell_type": "markdown",
   "metadata": {},
   "source": [
    "**Observations**\n",
    "\n",
    "From the charts we can see depsite there being a higher male population on the chart, a higher proportion of females survived.\n",
    "\n",
    "Passengers from Pclass 1 have also a much higher chance of survival.\n",
    "\n",
    "Passengers that embarked at C had the highest chance of survival."
   ]
  },
  {
   "cell_type": "code",
   "execution_count": 31,
   "metadata": {},
   "outputs": [
    {
     "data": {
      "text/html": [
       "<style  type=\"text/css\" >\n",
       "#T_fb326e95_1e9a_11ec_9c7b_00249b6a1b9arow0_col0{\n",
       "            background-color:  #71020e;\n",
       "            color:  #f1f1f1;\n",
       "        }#T_fb326e95_1e9a_11ec_9c7b_00249b6a1b9arow0_col1,#T_fb326e95_1e9a_11ec_9c7b_00249b6a1b9arow2_col0,#T_fb326e95_1e9a_11ec_9c7b_00249b6a1b9arow2_col1,#T_fb326e95_1e9a_11ec_9c7b_00249b6a1b9arow2_col2{\n",
       "            background-color:  #67000d;\n",
       "            color:  #f1f1f1;\n",
       "        }#T_fb326e95_1e9a_11ec_9c7b_00249b6a1b9arow0_col2{\n",
       "            background-color:  #9f0e14;\n",
       "            color:  #f1f1f1;\n",
       "        }#T_fb326e95_1e9a_11ec_9c7b_00249b6a1b9arow1_col0{\n",
       "            background-color:  #fc8969;\n",
       "            color:  #000000;\n",
       "        }#T_fb326e95_1e9a_11ec_9c7b_00249b6a1b9arow1_col1{\n",
       "            background-color:  #fdcab5;\n",
       "            color:  #000000;\n",
       "        }#T_fb326e95_1e9a_11ec_9c7b_00249b6a1b9arow1_col2{\n",
       "            background-color:  #fcbea5;\n",
       "            color:  #000000;\n",
       "        }#T_fb326e95_1e9a_11ec_9c7b_00249b6a1b9arow3_col0,#T_fb326e95_1e9a_11ec_9c7b_00249b6a1b9arow3_col1,#T_fb326e95_1e9a_11ec_9c7b_00249b6a1b9arow3_col2{\n",
       "            background-color:  #fff5f0;\n",
       "            color:  #000000;\n",
       "        }#T_fb326e95_1e9a_11ec_9c7b_00249b6a1b9arow4_col0{\n",
       "            background-color:  #7a0510;\n",
       "            color:  #f1f1f1;\n",
       "        }#T_fb326e95_1e9a_11ec_9c7b_00249b6a1b9arow4_col1{\n",
       "            background-color:  #920a13;\n",
       "            color:  #f1f1f1;\n",
       "        }#T_fb326e95_1e9a_11ec_9c7b_00249b6a1b9arow4_col2{\n",
       "            background-color:  #fb7757;\n",
       "            color:  #000000;\n",
       "        }#T_fb326e95_1e9a_11ec_9c7b_00249b6a1b9arow5_col0{\n",
       "            background-color:  #fc997a;\n",
       "            color:  #000000;\n",
       "        }#T_fb326e95_1e9a_11ec_9c7b_00249b6a1b9arow5_col1{\n",
       "            background-color:  #fed8c7;\n",
       "            color:  #000000;\n",
       "        }#T_fb326e95_1e9a_11ec_9c7b_00249b6a1b9arow5_col2{\n",
       "            background-color:  #fee8dd;\n",
       "            color:  #000000;\n",
       "        }</style><table id=\"T_fb326e95_1e9a_11ec_9c7b_00249b6a1b9a\" ><thead>    <tr>        <th class=\"blank\" ></th>        <th class=\"index_name level0\" >Pclass</th>        <th class=\"col_heading level0 col0\" >1</th>        <th class=\"col_heading level0 col1\" >2</th>        <th class=\"col_heading level0 col2\" >3</th>    </tr>    <tr>        <th class=\"index_name level0\" >Embarked</th>        <th class=\"index_name level1\" >Sex</th>        <th class=\"blank\" ></th>        <th class=\"blank\" ></th>        <th class=\"blank\" ></th>    </tr></thead><tbody>\n",
       "                <tr>\n",
       "                        <th id=\"T_fb326e95_1e9a_11ec_9c7b_00249b6a1b9alevel0_row0\" class=\"row_heading level0 row0\" rowspan=2>C</th>\n",
       "                        <th id=\"T_fb326e95_1e9a_11ec_9c7b_00249b6a1b9alevel1_row0\" class=\"row_heading level1 row0\" >female</th>\n",
       "                        <td id=\"T_fb326e95_1e9a_11ec_9c7b_00249b6a1b9arow0_col0\" class=\"data row0 col0\" >0.976744</td>\n",
       "                        <td id=\"T_fb326e95_1e9a_11ec_9c7b_00249b6a1b9arow0_col1\" class=\"data row0 col1\" >1.000000</td>\n",
       "                        <td id=\"T_fb326e95_1e9a_11ec_9c7b_00249b6a1b9arow0_col2\" class=\"data row0 col2\" >0.652174</td>\n",
       "            </tr>\n",
       "            <tr>\n",
       "                                <th id=\"T_fb326e95_1e9a_11ec_9c7b_00249b6a1b9alevel1_row1\" class=\"row_heading level1 row1\" >male</th>\n",
       "                        <td id=\"T_fb326e95_1e9a_11ec_9c7b_00249b6a1b9arow1_col0\" class=\"data row1 col0\" >0.404762</td>\n",
       "                        <td id=\"T_fb326e95_1e9a_11ec_9c7b_00249b6a1b9arow1_col1\" class=\"data row1 col1\" >0.200000</td>\n",
       "                        <td id=\"T_fb326e95_1e9a_11ec_9c7b_00249b6a1b9arow1_col2\" class=\"data row1 col2\" >0.232558</td>\n",
       "            </tr>\n",
       "            <tr>\n",
       "                        <th id=\"T_fb326e95_1e9a_11ec_9c7b_00249b6a1b9alevel0_row2\" class=\"row_heading level0 row2\" rowspan=2>Q</th>\n",
       "                        <th id=\"T_fb326e95_1e9a_11ec_9c7b_00249b6a1b9alevel1_row2\" class=\"row_heading level1 row2\" >female</th>\n",
       "                        <td id=\"T_fb326e95_1e9a_11ec_9c7b_00249b6a1b9arow2_col0\" class=\"data row2 col0\" >1.000000</td>\n",
       "                        <td id=\"T_fb326e95_1e9a_11ec_9c7b_00249b6a1b9arow2_col1\" class=\"data row2 col1\" >1.000000</td>\n",
       "                        <td id=\"T_fb326e95_1e9a_11ec_9c7b_00249b6a1b9arow2_col2\" class=\"data row2 col2\" >0.727273</td>\n",
       "            </tr>\n",
       "            <tr>\n",
       "                                <th id=\"T_fb326e95_1e9a_11ec_9c7b_00249b6a1b9alevel1_row3\" class=\"row_heading level1 row3\" >male</th>\n",
       "                        <td id=\"T_fb326e95_1e9a_11ec_9c7b_00249b6a1b9arow3_col0\" class=\"data row3 col0\" >0.000000</td>\n",
       "                        <td id=\"T_fb326e95_1e9a_11ec_9c7b_00249b6a1b9arow3_col1\" class=\"data row3 col1\" >0.000000</td>\n",
       "                        <td id=\"T_fb326e95_1e9a_11ec_9c7b_00249b6a1b9arow3_col2\" class=\"data row3 col2\" >0.076923</td>\n",
       "            </tr>\n",
       "            <tr>\n",
       "                        <th id=\"T_fb326e95_1e9a_11ec_9c7b_00249b6a1b9alevel0_row4\" class=\"row_heading level0 row4\" rowspan=2>S</th>\n",
       "                        <th id=\"T_fb326e95_1e9a_11ec_9c7b_00249b6a1b9alevel1_row4\" class=\"row_heading level1 row4\" >female</th>\n",
       "                        <td id=\"T_fb326e95_1e9a_11ec_9c7b_00249b6a1b9arow4_col0\" class=\"data row4 col0\" >0.958333</td>\n",
       "                        <td id=\"T_fb326e95_1e9a_11ec_9c7b_00249b6a1b9arow4_col1\" class=\"data row4 col1\" >0.910448</td>\n",
       "                        <td id=\"T_fb326e95_1e9a_11ec_9c7b_00249b6a1b9arow4_col2\" class=\"data row4 col2\" >0.375000</td>\n",
       "            </tr>\n",
       "            <tr>\n",
       "                                <th id=\"T_fb326e95_1e9a_11ec_9c7b_00249b6a1b9alevel1_row5\" class=\"row_heading level1 row5\" >male</th>\n",
       "                        <td id=\"T_fb326e95_1e9a_11ec_9c7b_00249b6a1b9arow5_col0\" class=\"data row5 col0\" >0.354430</td>\n",
       "                        <td id=\"T_fb326e95_1e9a_11ec_9c7b_00249b6a1b9arow5_col1\" class=\"data row5 col1\" >0.154639</td>\n",
       "                        <td id=\"T_fb326e95_1e9a_11ec_9c7b_00249b6a1b9arow5_col2\" class=\"data row5 col2\" >0.128302</td>\n",
       "            </tr>\n",
       "    </tbody></table>"
      ],
      "text/plain": [
       "<pandas.io.formats.style.Styler at 0x1d51b5ea910>"
      ]
     },
     "execution_count": 31,
     "metadata": {},
     "output_type": "execute_result"
    }
   ],
   "source": [
    "train_data.pivot_table('Survived', ['Embarked','Sex'] , 'Pclass').style.background_gradient(cmap='Reds')"
   ]
  },
  {
   "cell_type": "markdown",
   "metadata": {},
   "source": [
    "## 2. Exploratory Data Analysis"
   ]
  },
  {
   "cell_type": "markdown",
   "metadata": {},
   "source": [
    "We will first begin with **Cabins**\n",
    "\n",
    "We will investigate if the letter at the front of the Cabins affect survival."
   ]
  },
  {
   "cell_type": "code",
   "execution_count": 16,
   "metadata": {},
   "outputs": [],
   "source": [
    "#Extract first letter from cabin\n",
    "train_data['Cabin_letter'] = train_data.Cabin.str.extract('([a-zA-Z])')"
   ]
  },
  {
   "cell_type": "code",
   "execution_count": 17,
   "metadata": {},
   "outputs": [
    {
     "data": {
      "text/plain": [
       "C    59\n",
       "B    47\n",
       "D    33\n",
       "E    32\n",
       "A    15\n",
       "F    13\n",
       "G     4\n",
       "T     1\n",
       "Name: Cabin_letter, dtype: int64"
      ]
     },
     "execution_count": 17,
     "metadata": {},
     "output_type": "execute_result"
    }
   ],
   "source": [
    "train_data['Cabin_letter'].value_counts()"
   ]
  },
  {
   "cell_type": "code",
   "execution_count": 18,
   "metadata": {},
   "outputs": [
    {
     "data": {
      "text/html": [
       "<style  type=\"text/css\" >\n",
       "#T_19d1c37b_1e8c_11ec_9bd8_00249b6a1b9arow0_col0{\n",
       "            background-color:  #f03f2e;\n",
       "            color:  #f1f1f1;\n",
       "        }#T_19d1c37b_1e8c_11ec_9bd8_00249b6a1b9arow1_col0{\n",
       "            background-color:  #6f020e;\n",
       "            color:  #f1f1f1;\n",
       "        }#T_19d1c37b_1e8c_11ec_9bd8_00249b6a1b9arow2_col0{\n",
       "            background-color:  #c1161b;\n",
       "            color:  #f1f1f1;\n",
       "        }#T_19d1c37b_1e8c_11ec_9bd8_00249b6a1b9arow3_col0{\n",
       "            background-color:  #67000d;\n",
       "            color:  #f1f1f1;\n",
       "        }#T_19d1c37b_1e8c_11ec_9bd8_00249b6a1b9arow4_col0{\n",
       "            background-color:  #6b010e;\n",
       "            color:  #f1f1f1;\n",
       "        }#T_19d1c37b_1e8c_11ec_9bd8_00249b6a1b9arow5_col0{\n",
       "            background-color:  #b81419;\n",
       "            color:  #f1f1f1;\n",
       "        }#T_19d1c37b_1e8c_11ec_9bd8_00249b6a1b9arow6_col0{\n",
       "            background-color:  #e53228;\n",
       "            color:  #f1f1f1;\n",
       "        }#T_19d1c37b_1e8c_11ec_9bd8_00249b6a1b9arow7_col0{\n",
       "            background-color:  #fff5f0;\n",
       "            color:  #000000;\n",
       "        }</style><table id=\"T_19d1c37b_1e8c_11ec_9bd8_00249b6a1b9a\" ><thead>    <tr>        <th class=\"blank level0\" ></th>        <th class=\"col_heading level0 col0\" >Survived</th>    </tr>    <tr>        <th class=\"index_name level0\" >Cabin_letter</th>        <th class=\"blank\" ></th>    </tr></thead><tbody>\n",
       "                <tr>\n",
       "                        <th id=\"T_19d1c37b_1e8c_11ec_9bd8_00249b6a1b9alevel0_row0\" class=\"row_heading level0 row0\" >A</th>\n",
       "                        <td id=\"T_19d1c37b_1e8c_11ec_9bd8_00249b6a1b9arow0_col0\" class=\"data row0 col0\" >0.466667</td>\n",
       "            </tr>\n",
       "            <tr>\n",
       "                        <th id=\"T_19d1c37b_1e8c_11ec_9bd8_00249b6a1b9alevel0_row1\" class=\"row_heading level0 row1\" >B</th>\n",
       "                        <td id=\"T_19d1c37b_1e8c_11ec_9bd8_00249b6a1b9arow1_col0\" class=\"data row1 col0\" >0.744681</td>\n",
       "            </tr>\n",
       "            <tr>\n",
       "                        <th id=\"T_19d1c37b_1e8c_11ec_9bd8_00249b6a1b9alevel0_row2\" class=\"row_heading level0 row2\" >C</th>\n",
       "                        <td id=\"T_19d1c37b_1e8c_11ec_9bd8_00249b6a1b9arow2_col0\" class=\"data row2 col0\" >0.593220</td>\n",
       "            </tr>\n",
       "            <tr>\n",
       "                        <th id=\"T_19d1c37b_1e8c_11ec_9bd8_00249b6a1b9alevel0_row3\" class=\"row_heading level0 row3\" >D</th>\n",
       "                        <td id=\"T_19d1c37b_1e8c_11ec_9bd8_00249b6a1b9arow3_col0\" class=\"data row3 col0\" >0.757576</td>\n",
       "            </tr>\n",
       "            <tr>\n",
       "                        <th id=\"T_19d1c37b_1e8c_11ec_9bd8_00249b6a1b9alevel0_row4\" class=\"row_heading level0 row4\" >E</th>\n",
       "                        <td id=\"T_19d1c37b_1e8c_11ec_9bd8_00249b6a1b9arow4_col0\" class=\"data row4 col0\" >0.750000</td>\n",
       "            </tr>\n",
       "            <tr>\n",
       "                        <th id=\"T_19d1c37b_1e8c_11ec_9bd8_00249b6a1b9alevel0_row5\" class=\"row_heading level0 row5\" >F</th>\n",
       "                        <td id=\"T_19d1c37b_1e8c_11ec_9bd8_00249b6a1b9arow5_col0\" class=\"data row5 col0\" >0.615385</td>\n",
       "            </tr>\n",
       "            <tr>\n",
       "                        <th id=\"T_19d1c37b_1e8c_11ec_9bd8_00249b6a1b9alevel0_row6\" class=\"row_heading level0 row6\" >G</th>\n",
       "                        <td id=\"T_19d1c37b_1e8c_11ec_9bd8_00249b6a1b9arow6_col0\" class=\"data row6 col0\" >0.500000</td>\n",
       "            </tr>\n",
       "            <tr>\n",
       "                        <th id=\"T_19d1c37b_1e8c_11ec_9bd8_00249b6a1b9alevel0_row7\" class=\"row_heading level0 row7\" >T</th>\n",
       "                        <td id=\"T_19d1c37b_1e8c_11ec_9bd8_00249b6a1b9arow7_col0\" class=\"data row7 col0\" >0.000000</td>\n",
       "            </tr>\n",
       "    </tbody></table>"
      ],
      "text/plain": [
       "<pandas.io.formats.style.Styler at 0x2bcc70db700>"
      ]
     },
     "metadata": {},
     "output_type": "display_data"
    }
   ],
   "source": [
    " display(pd.pivot_table(train_data, index=train_data['Cabin_letter'], values ='Survived').style.background_gradient(cmap='Reds'))"
   ]
  },
  {
   "cell_type": "markdown",
   "metadata": {},
   "source": [
    "**Observations**\n",
    "\n",
    "We can see some cabins have higher rates of survival than others."
   ]
  },
  {
   "cell_type": "markdown",
   "metadata": {},
   "source": [
    "Moving onto **Tickets**.\n",
    "\n",
    "We will see if the letters and numbers in the Tickets effect anything."
   ]
  },
  {
   "cell_type": "code",
   "execution_count": 19,
   "metadata": {},
   "outputs": [],
   "source": [
    "#Extract all letters in ticket\n",
    "train_data['Ticket_letter'] = train_data.Ticket.str.extract('([a-zA-Z]+)')\n",
    "\n",
    "#new column to mark if ticket is number or has letters in it\n",
    "train_data['isNumeric'] = train_data.Ticket.apply(lambda x: 1 if x.isnumeric() else 0)"
   ]
  },
  {
   "cell_type": "code",
   "execution_count": 20,
   "metadata": {},
   "outputs": [
    {
     "data": {
      "text/plain": [
       "PC       60\n",
       "C        33\n",
       "A        29\n",
       "STON     18\n",
       "SOTON    17\n",
       "CA       14\n",
       "S        14\n",
       "SC       13\n",
       "W        11\n",
       "F         6\n",
       "LINE      4\n",
       "PP        3\n",
       "P         2\n",
       "WE        2\n",
       "Fa        1\n",
       "SW        1\n",
       "SO        1\n",
       "SCO       1\n",
       "Name: Ticket_letter, dtype: int64"
      ]
     },
     "execution_count": 20,
     "metadata": {},
     "output_type": "execute_result"
    }
   ],
   "source": [
    "train_data['Ticket_letter'].value_counts()"
   ]
  },
  {
   "cell_type": "code",
   "execution_count": 21,
   "metadata": {},
   "outputs": [
    {
     "data": {
      "text/plain": [
       "1    661\n",
       "0    230\n",
       "Name: isNumeric, dtype: int64"
      ]
     },
     "execution_count": 21,
     "metadata": {},
     "output_type": "execute_result"
    }
   ],
   "source": [
    "train_data['isNumeric'].value_counts()"
   ]
  },
  {
   "cell_type": "code",
   "execution_count": 22,
   "metadata": {},
   "outputs": [
    {
     "data": {
      "text/html": [
       "<style  type=\"text/css\" >\n",
       "#T_19db5ce3_1e8c_11ec_b778_00249b6a1b9arow0_col0{\n",
       "            background-color:  #feeae0;\n",
       "            color:  #000000;\n",
       "        }#T_19db5ce3_1e8c_11ec_b778_00249b6a1b9arow1_col0{\n",
       "            background-color:  #fb7858;\n",
       "            color:  #000000;\n",
       "        }#T_19db5ce3_1e8c_11ec_b778_00249b6a1b9arow2_col0{\n",
       "            background-color:  #fee9df;\n",
       "            color:  #000000;\n",
       "        }#T_19db5ce3_1e8c_11ec_b778_00249b6a1b9arow3_col0,#T_19db5ce3_1e8c_11ec_b778_00249b6a1b9arow8_col0{\n",
       "            background-color:  #e32f27;\n",
       "            color:  #f1f1f1;\n",
       "        }#T_19db5ce3_1e8c_11ec_b778_00249b6a1b9arow4_col0,#T_19db5ce3_1e8c_11ec_b778_00249b6a1b9arow11_col0{\n",
       "            background-color:  #fff5f0;\n",
       "            color:  #000000;\n",
       "        }#T_19db5ce3_1e8c_11ec_b778_00249b6a1b9arow5_col0{\n",
       "            background-color:  #fcbba1;\n",
       "            color:  #000000;\n",
       "        }#T_19db5ce3_1e8c_11ec_b778_00249b6a1b9arow6_col0,#T_19db5ce3_1e8c_11ec_b778_00249b6a1b9arow17_col0{\n",
       "            background-color:  #fb694a;\n",
       "            color:  #000000;\n",
       "        }#T_19db5ce3_1e8c_11ec_b778_00249b6a1b9arow7_col0{\n",
       "            background-color:  #e83429;\n",
       "            color:  #f1f1f1;\n",
       "        }#T_19db5ce3_1e8c_11ec_b778_00249b6a1b9arow9_col0{\n",
       "            background-color:  #fedbcc;\n",
       "            color:  #000000;\n",
       "        }#T_19db5ce3_1e8c_11ec_b778_00249b6a1b9arow10_col0{\n",
       "            background-color:  #f75c41;\n",
       "            color:  #000000;\n",
       "        }#T_19db5ce3_1e8c_11ec_b778_00249b6a1b9arow12_col0,#T_19db5ce3_1e8c_11ec_b778_00249b6a1b9arow15_col0{\n",
       "            background-color:  #67000d;\n",
       "            color:  #f1f1f1;\n",
       "        }#T_19db5ce3_1e8c_11ec_b778_00249b6a1b9arow13_col0{\n",
       "            background-color:  #fee1d4;\n",
       "            color:  #000000;\n",
       "        }#T_19db5ce3_1e8c_11ec_b778_00249b6a1b9arow14_col0{\n",
       "            background-color:  #fb7c5c;\n",
       "            color:  #000000;\n",
       "        }#T_19db5ce3_1e8c_11ec_b778_00249b6a1b9arow16_col0{\n",
       "            background-color:  #fee6da;\n",
       "            color:  #000000;\n",
       "        }</style><table id=\"T_19db5ce3_1e8c_11ec_b778_00249b6a1b9a\" ><thead>    <tr>        <th class=\"blank level0\" ></th>        <th class=\"col_heading level0 col0\" >Survived</th>    </tr>    <tr>        <th class=\"index_name level0\" >Ticket_letter</th>        <th class=\"blank\" ></th>    </tr></thead><tbody>\n",
       "                <tr>\n",
       "                        <th id=\"T_19db5ce3_1e8c_11ec_b778_00249b6a1b9alevel0_row0\" class=\"row_heading level0 row0\" >A</th>\n",
       "                        <td id=\"T_19db5ce3_1e8c_11ec_b778_00249b6a1b9arow0_col0\" class=\"data row0 col0\" >0.068966</td>\n",
       "            </tr>\n",
       "            <tr>\n",
       "                        <th id=\"T_19db5ce3_1e8c_11ec_b778_00249b6a1b9alevel0_row1\" class=\"row_heading level0 row1\" >C</th>\n",
       "                        <td id=\"T_19db5ce3_1e8c_11ec_b778_00249b6a1b9arow1_col0\" class=\"data row1 col0\" >0.454545</td>\n",
       "            </tr>\n",
       "            <tr>\n",
       "                        <th id=\"T_19db5ce3_1e8c_11ec_b778_00249b6a1b9alevel0_row2\" class=\"row_heading level0 row2\" >CA</th>\n",
       "                        <td id=\"T_19db5ce3_1e8c_11ec_b778_00249b6a1b9arow2_col0\" class=\"data row2 col0\" >0.071429</td>\n",
       "            </tr>\n",
       "            <tr>\n",
       "                        <th id=\"T_19db5ce3_1e8c_11ec_b778_00249b6a1b9alevel0_row3\" class=\"row_heading level0 row3\" >F</th>\n",
       "                        <td id=\"T_19db5ce3_1e8c_11ec_b778_00249b6a1b9arow3_col0\" class=\"data row3 col0\" >0.666667</td>\n",
       "            </tr>\n",
       "            <tr>\n",
       "                        <th id=\"T_19db5ce3_1e8c_11ec_b778_00249b6a1b9alevel0_row4\" class=\"row_heading level0 row4\" >Fa</th>\n",
       "                        <td id=\"T_19db5ce3_1e8c_11ec_b778_00249b6a1b9arow4_col0\" class=\"data row4 col0\" >0.000000</td>\n",
       "            </tr>\n",
       "            <tr>\n",
       "                        <th id=\"T_19db5ce3_1e8c_11ec_b778_00249b6a1b9alevel0_row5\" class=\"row_heading level0 row5\" >LINE</th>\n",
       "                        <td id=\"T_19db5ce3_1e8c_11ec_b778_00249b6a1b9arow5_col0\" class=\"data row5 col0\" >0.250000</td>\n",
       "            </tr>\n",
       "            <tr>\n",
       "                        <th id=\"T_19db5ce3_1e8c_11ec_b778_00249b6a1b9alevel0_row6\" class=\"row_heading level0 row6\" >P</th>\n",
       "                        <td id=\"T_19db5ce3_1e8c_11ec_b778_00249b6a1b9arow6_col0\" class=\"data row6 col0\" >0.500000</td>\n",
       "            </tr>\n",
       "            <tr>\n",
       "                        <th id=\"T_19db5ce3_1e8c_11ec_b778_00249b6a1b9alevel0_row7\" class=\"row_heading level0 row7\" >PC</th>\n",
       "                        <td id=\"T_19db5ce3_1e8c_11ec_b778_00249b6a1b9arow7_col0\" class=\"data row7 col0\" >0.650000</td>\n",
       "            </tr>\n",
       "            <tr>\n",
       "                        <th id=\"T_19db5ce3_1e8c_11ec_b778_00249b6a1b9alevel0_row8\" class=\"row_heading level0 row8\" >PP</th>\n",
       "                        <td id=\"T_19db5ce3_1e8c_11ec_b778_00249b6a1b9arow8_col0\" class=\"data row8 col0\" >0.666667</td>\n",
       "            </tr>\n",
       "            <tr>\n",
       "                        <th id=\"T_19db5ce3_1e8c_11ec_b778_00249b6a1b9alevel0_row9\" class=\"row_heading level0 row9\" >S</th>\n",
       "                        <td id=\"T_19db5ce3_1e8c_11ec_b778_00249b6a1b9arow9_col0\" class=\"data row9 col0\" >0.142857</td>\n",
       "            </tr>\n",
       "            <tr>\n",
       "                        <th id=\"T_19db5ce3_1e8c_11ec_b778_00249b6a1b9alevel0_row10\" class=\"row_heading level0 row10\" >SC</th>\n",
       "                        <td id=\"T_19db5ce3_1e8c_11ec_b778_00249b6a1b9arow10_col0\" class=\"data row10 col0\" >0.538462</td>\n",
       "            </tr>\n",
       "            <tr>\n",
       "                        <th id=\"T_19db5ce3_1e8c_11ec_b778_00249b6a1b9alevel0_row11\" class=\"row_heading level0 row11\" >SCO</th>\n",
       "                        <td id=\"T_19db5ce3_1e8c_11ec_b778_00249b6a1b9arow11_col0\" class=\"data row11 col0\" >0.000000</td>\n",
       "            </tr>\n",
       "            <tr>\n",
       "                        <th id=\"T_19db5ce3_1e8c_11ec_b778_00249b6a1b9alevel0_row12\" class=\"row_heading level0 row12\" >SO</th>\n",
       "                        <td id=\"T_19db5ce3_1e8c_11ec_b778_00249b6a1b9arow12_col0\" class=\"data row12 col0\" >1.000000</td>\n",
       "            </tr>\n",
       "            <tr>\n",
       "                        <th id=\"T_19db5ce3_1e8c_11ec_b778_00249b6a1b9alevel0_row13\" class=\"row_heading level0 row13\" >SOTON</th>\n",
       "                        <td id=\"T_19db5ce3_1e8c_11ec_b778_00249b6a1b9arow13_col0\" class=\"data row13 col0\" >0.117647</td>\n",
       "            </tr>\n",
       "            <tr>\n",
       "                        <th id=\"T_19db5ce3_1e8c_11ec_b778_00249b6a1b9alevel0_row14\" class=\"row_heading level0 row14\" >STON</th>\n",
       "                        <td id=\"T_19db5ce3_1e8c_11ec_b778_00249b6a1b9arow14_col0\" class=\"data row14 col0\" >0.444444</td>\n",
       "            </tr>\n",
       "            <tr>\n",
       "                        <th id=\"T_19db5ce3_1e8c_11ec_b778_00249b6a1b9alevel0_row15\" class=\"row_heading level0 row15\" >SW</th>\n",
       "                        <td id=\"T_19db5ce3_1e8c_11ec_b778_00249b6a1b9arow15_col0\" class=\"data row15 col0\" >1.000000</td>\n",
       "            </tr>\n",
       "            <tr>\n",
       "                        <th id=\"T_19db5ce3_1e8c_11ec_b778_00249b6a1b9alevel0_row16\" class=\"row_heading level0 row16\" >W</th>\n",
       "                        <td id=\"T_19db5ce3_1e8c_11ec_b778_00249b6a1b9arow16_col0\" class=\"data row16 col0\" >0.090909</td>\n",
       "            </tr>\n",
       "            <tr>\n",
       "                        <th id=\"T_19db5ce3_1e8c_11ec_b778_00249b6a1b9alevel0_row17\" class=\"row_heading level0 row17\" >WE</th>\n",
       "                        <td id=\"T_19db5ce3_1e8c_11ec_b778_00249b6a1b9arow17_col0\" class=\"data row17 col0\" >0.500000</td>\n",
       "            </tr>\n",
       "    </tbody></table>"
      ],
      "text/plain": [
       "<pandas.io.formats.style.Styler at 0x2bcc72d22e0>"
      ]
     },
     "metadata": {},
     "output_type": "display_data"
    }
   ],
   "source": [
    " display(pd.pivot_table(train_data, index=train_data['Ticket_letter'], values ='Survived').style.background_gradient(cmap='Reds'))"
   ]
  },
  {
   "cell_type": "code",
   "execution_count": 23,
   "metadata": {},
   "outputs": [
    {
     "data": {
      "text/html": [
       "<style  type=\"text/css\" >\n",
       "#T_19dff24c_1e8c_11ec_9f48_00249b6a1b9arow0_col0{\n",
       "            background-color:  #fff5f0;\n",
       "            color:  #000000;\n",
       "        }#T_19dff24c_1e8c_11ec_9f48_00249b6a1b9arow1_col0{\n",
       "            background-color:  #67000d;\n",
       "            color:  #f1f1f1;\n",
       "        }</style><table id=\"T_19dff24c_1e8c_11ec_9f48_00249b6a1b9a\" ><thead>    <tr>        <th class=\"blank level0\" ></th>        <th class=\"col_heading level0 col0\" >Survived</th>    </tr>    <tr>        <th class=\"index_name level0\" >isNumeric</th>        <th class=\"blank\" ></th>    </tr></thead><tbody>\n",
       "                <tr>\n",
       "                        <th id=\"T_19dff24c_1e8c_11ec_9f48_00249b6a1b9alevel0_row0\" class=\"row_heading level0 row0\" >0</th>\n",
       "                        <td id=\"T_19dff24c_1e8c_11ec_9f48_00249b6a1b9arow0_col0\" class=\"data row0 col0\" >0.382609</td>\n",
       "            </tr>\n",
       "            <tr>\n",
       "                        <th id=\"T_19dff24c_1e8c_11ec_9f48_00249b6a1b9alevel0_row1\" class=\"row_heading level0 row1\" >1</th>\n",
       "                        <td id=\"T_19dff24c_1e8c_11ec_9f48_00249b6a1b9arow1_col0\" class=\"data row1 col0\" >0.384266</td>\n",
       "            </tr>\n",
       "    </tbody></table>"
      ],
      "text/plain": [
       "<pandas.io.formats.style.Styler at 0x2bcc70b8df0>"
      ]
     },
     "metadata": {},
     "output_type": "display_data"
    }
   ],
   "source": [
    " display(pd.pivot_table(train_data, index=train_data['isNumeric'], values ='Survived').style.background_gradient(cmap='Reds'))"
   ]
  },
  {
   "cell_type": "markdown",
   "metadata": {},
   "source": [
    "**Observations**\n",
    "\n",
    "No real difference between whether there is a letter in the Ticket - feature dropped.\n",
    "\n",
    "There is a variance between Ticket letters."
   ]
  },
  {
   "cell_type": "markdown",
   "metadata": {},
   "source": [
    "Moving onto **Title** in passenger Names"
   ]
  },
  {
   "cell_type": "code",
   "execution_count": 24,
   "metadata": {},
   "outputs": [],
   "source": [
    "#Extract title from {Name}, regex: extract alphanumeric characters after a comma ',' and before a period '.' , r = raw string\n",
    "\n",
    "train_data['Title'] = train_data.Name.str.extract(r', (\\w+)\\.')"
   ]
  },
  {
   "cell_type": "code",
   "execution_count": 25,
   "metadata": {},
   "outputs": [
    {
     "data": {
      "text/plain": [
       "Mr          517\n",
       "Miss        182\n",
       "Mrs         125\n",
       "Master       40\n",
       "Dr            7\n",
       "Rev           6\n",
       "Major         2\n",
       "Mlle          2\n",
       "Col           2\n",
       "Capt          1\n",
       "Mme           1\n",
       "Ms            1\n",
       "Don           1\n",
       "Jonkheer      1\n",
       "Lady          1\n",
       "Sir           1\n",
       "Name: Title, dtype: int64"
      ]
     },
     "execution_count": 25,
     "metadata": {},
     "output_type": "execute_result"
    }
   ],
   "source": [
    "train_data['Title'].value_counts()"
   ]
  },
  {
   "cell_type": "code",
   "execution_count": 26,
   "metadata": {},
   "outputs": [
    {
     "data": {
      "text/plain": [
       "array(['Mr', 'Mrs', 'Miss', 'Master', 'Don', 'Rev', 'Dr', 'Mme', 'Ms',\n",
       "       'Major', 'Lady', 'Sir', 'Mlle', 'Col', 'Capt', nan, 'Jonkheer'],\n",
       "      dtype=object)"
      ]
     },
     "execution_count": 26,
     "metadata": {},
     "output_type": "execute_result"
    }
   ],
   "source": [
    "train_data['Title'].unique()"
   ]
  },
  {
   "cell_type": "code",
   "execution_count": 27,
   "metadata": {},
   "outputs": [
    {
     "data": {
      "text/html": [
       "<style  type=\"text/css\" >\n",
       "#T_19e9908f_1e8c_11ec_88f7_00249b6a1b9arow0_col0,#T_19e9908f_1e8c_11ec_88f7_00249b6a1b9arow2_col0,#T_19e9908f_1e8c_11ec_88f7_00249b6a1b9arow4_col0,#T_19e9908f_1e8c_11ec_88f7_00249b6a1b9arow14_col0{\n",
       "            background-color:  #fff5f0;\n",
       "            color:  #000000;\n",
       "        }#T_19e9908f_1e8c_11ec_88f7_00249b6a1b9arow1_col0,#T_19e9908f_1e8c_11ec_88f7_00249b6a1b9arow6_col0{\n",
       "            background-color:  #fb694a;\n",
       "            color:  #000000;\n",
       "        }#T_19e9908f_1e8c_11ec_88f7_00249b6a1b9arow3_col0{\n",
       "            background-color:  #fc8161;\n",
       "            color:  #000000;\n",
       "        }#T_19e9908f_1e8c_11ec_88f7_00249b6a1b9arow5_col0,#T_19e9908f_1e8c_11ec_88f7_00249b6a1b9arow9_col0,#T_19e9908f_1e8c_11ec_88f7_00249b6a1b9arow10_col0,#T_19e9908f_1e8c_11ec_88f7_00249b6a1b9arow13_col0,#T_19e9908f_1e8c_11ec_88f7_00249b6a1b9arow15_col0{\n",
       "            background-color:  #67000d;\n",
       "            color:  #f1f1f1;\n",
       "        }#T_19e9908f_1e8c_11ec_88f7_00249b6a1b9arow7_col0{\n",
       "            background-color:  #f44d38;\n",
       "            color:  #000000;\n",
       "        }#T_19e9908f_1e8c_11ec_88f7_00249b6a1b9arow8_col0{\n",
       "            background-color:  #da2723;\n",
       "            color:  #f1f1f1;\n",
       "        }#T_19e9908f_1e8c_11ec_88f7_00249b6a1b9arow11_col0{\n",
       "            background-color:  #fdd7c6;\n",
       "            color:  #000000;\n",
       "        }#T_19e9908f_1e8c_11ec_88f7_00249b6a1b9arow12_col0{\n",
       "            background-color:  #be151a;\n",
       "            color:  #f1f1f1;\n",
       "        }</style><table id=\"T_19e9908f_1e8c_11ec_88f7_00249b6a1b9a\" ><thead>    <tr>        <th class=\"blank level0\" ></th>        <th class=\"col_heading level0 col0\" >Survived</th>    </tr>    <tr>        <th class=\"index_name level0\" >Title</th>        <th class=\"blank\" ></th>    </tr></thead><tbody>\n",
       "                <tr>\n",
       "                        <th id=\"T_19e9908f_1e8c_11ec_88f7_00249b6a1b9alevel0_row0\" class=\"row_heading level0 row0\" >Capt</th>\n",
       "                        <td id=\"T_19e9908f_1e8c_11ec_88f7_00249b6a1b9arow0_col0\" class=\"data row0 col0\" >0.000000</td>\n",
       "            </tr>\n",
       "            <tr>\n",
       "                        <th id=\"T_19e9908f_1e8c_11ec_88f7_00249b6a1b9alevel0_row1\" class=\"row_heading level0 row1\" >Col</th>\n",
       "                        <td id=\"T_19e9908f_1e8c_11ec_88f7_00249b6a1b9arow1_col0\" class=\"data row1 col0\" >0.500000</td>\n",
       "            </tr>\n",
       "            <tr>\n",
       "                        <th id=\"T_19e9908f_1e8c_11ec_88f7_00249b6a1b9alevel0_row2\" class=\"row_heading level0 row2\" >Don</th>\n",
       "                        <td id=\"T_19e9908f_1e8c_11ec_88f7_00249b6a1b9arow2_col0\" class=\"data row2 col0\" >0.000000</td>\n",
       "            </tr>\n",
       "            <tr>\n",
       "                        <th id=\"T_19e9908f_1e8c_11ec_88f7_00249b6a1b9alevel0_row3\" class=\"row_heading level0 row3\" >Dr</th>\n",
       "                        <td id=\"T_19e9908f_1e8c_11ec_88f7_00249b6a1b9arow3_col0\" class=\"data row3 col0\" >0.428571</td>\n",
       "            </tr>\n",
       "            <tr>\n",
       "                        <th id=\"T_19e9908f_1e8c_11ec_88f7_00249b6a1b9alevel0_row4\" class=\"row_heading level0 row4\" >Jonkheer</th>\n",
       "                        <td id=\"T_19e9908f_1e8c_11ec_88f7_00249b6a1b9arow4_col0\" class=\"data row4 col0\" >0.000000</td>\n",
       "            </tr>\n",
       "            <tr>\n",
       "                        <th id=\"T_19e9908f_1e8c_11ec_88f7_00249b6a1b9alevel0_row5\" class=\"row_heading level0 row5\" >Lady</th>\n",
       "                        <td id=\"T_19e9908f_1e8c_11ec_88f7_00249b6a1b9arow5_col0\" class=\"data row5 col0\" >1.000000</td>\n",
       "            </tr>\n",
       "            <tr>\n",
       "                        <th id=\"T_19e9908f_1e8c_11ec_88f7_00249b6a1b9alevel0_row6\" class=\"row_heading level0 row6\" >Major</th>\n",
       "                        <td id=\"T_19e9908f_1e8c_11ec_88f7_00249b6a1b9arow6_col0\" class=\"data row6 col0\" >0.500000</td>\n",
       "            </tr>\n",
       "            <tr>\n",
       "                        <th id=\"T_19e9908f_1e8c_11ec_88f7_00249b6a1b9alevel0_row7\" class=\"row_heading level0 row7\" >Master</th>\n",
       "                        <td id=\"T_19e9908f_1e8c_11ec_88f7_00249b6a1b9arow7_col0\" class=\"data row7 col0\" >0.575000</td>\n",
       "            </tr>\n",
       "            <tr>\n",
       "                        <th id=\"T_19e9908f_1e8c_11ec_88f7_00249b6a1b9alevel0_row8\" class=\"row_heading level0 row8\" >Miss</th>\n",
       "                        <td id=\"T_19e9908f_1e8c_11ec_88f7_00249b6a1b9arow8_col0\" class=\"data row8 col0\" >0.697802</td>\n",
       "            </tr>\n",
       "            <tr>\n",
       "                        <th id=\"T_19e9908f_1e8c_11ec_88f7_00249b6a1b9alevel0_row9\" class=\"row_heading level0 row9\" >Mlle</th>\n",
       "                        <td id=\"T_19e9908f_1e8c_11ec_88f7_00249b6a1b9arow9_col0\" class=\"data row9 col0\" >1.000000</td>\n",
       "            </tr>\n",
       "            <tr>\n",
       "                        <th id=\"T_19e9908f_1e8c_11ec_88f7_00249b6a1b9alevel0_row10\" class=\"row_heading level0 row10\" >Mme</th>\n",
       "                        <td id=\"T_19e9908f_1e8c_11ec_88f7_00249b6a1b9arow10_col0\" class=\"data row10 col0\" >1.000000</td>\n",
       "            </tr>\n",
       "            <tr>\n",
       "                        <th id=\"T_19e9908f_1e8c_11ec_88f7_00249b6a1b9alevel0_row11\" class=\"row_heading level0 row11\" >Mr</th>\n",
       "                        <td id=\"T_19e9908f_1e8c_11ec_88f7_00249b6a1b9arow11_col0\" class=\"data row11 col0\" >0.156673</td>\n",
       "            </tr>\n",
       "            <tr>\n",
       "                        <th id=\"T_19e9908f_1e8c_11ec_88f7_00249b6a1b9alevel0_row12\" class=\"row_heading level0 row12\" >Mrs</th>\n",
       "                        <td id=\"T_19e9908f_1e8c_11ec_88f7_00249b6a1b9arow12_col0\" class=\"data row12 col0\" >0.792000</td>\n",
       "            </tr>\n",
       "            <tr>\n",
       "                        <th id=\"T_19e9908f_1e8c_11ec_88f7_00249b6a1b9alevel0_row13\" class=\"row_heading level0 row13\" >Ms</th>\n",
       "                        <td id=\"T_19e9908f_1e8c_11ec_88f7_00249b6a1b9arow13_col0\" class=\"data row13 col0\" >1.000000</td>\n",
       "            </tr>\n",
       "            <tr>\n",
       "                        <th id=\"T_19e9908f_1e8c_11ec_88f7_00249b6a1b9alevel0_row14\" class=\"row_heading level0 row14\" >Rev</th>\n",
       "                        <td id=\"T_19e9908f_1e8c_11ec_88f7_00249b6a1b9arow14_col0\" class=\"data row14 col0\" >0.000000</td>\n",
       "            </tr>\n",
       "            <tr>\n",
       "                        <th id=\"T_19e9908f_1e8c_11ec_88f7_00249b6a1b9alevel0_row15\" class=\"row_heading level0 row15\" >Sir</th>\n",
       "                        <td id=\"T_19e9908f_1e8c_11ec_88f7_00249b6a1b9arow15_col0\" class=\"data row15 col0\" >1.000000</td>\n",
       "            </tr>\n",
       "    </tbody></table>"
      ],
      "text/plain": [
       "<pandas.io.formats.style.Styler at 0x2bcc72d22e0>"
      ]
     },
     "metadata": {},
     "output_type": "display_data"
    }
   ],
   "source": [
    " display(pd.pivot_table(train_data, index=train_data['Title'], values ='Survived').style.background_gradient(cmap='Reds'))"
   ]
  },
  {
   "cell_type": "markdown",
   "metadata": {},
   "source": [
    "**Observations**\n",
    "\n",
    "We can see a large variance in Title survival rates.\n",
    "\n",
    "**Feature Engineering**\n",
    "\n",
    "We will add 3 addition features: Titles, Ticket Letters and Cabin Letters"
   ]
  },
  {
   "cell_type": "markdown",
   "metadata": {},
   "source": [
    "## Data Preprocessing"
   ]
  },
  {
   "cell_type": "markdown",
   "metadata": {},
   "source": [
    "**Null Values**\n"
   ]
  },
  {
   "cell_type": "code",
   "execution_count": 28,
   "metadata": {},
   "outputs": [],
   "source": [
    "#Dropped rows where {Embarked} is null in training data\n",
    "train_data = train_data.dropna(subset=['Embarked'])"
   ]
  },
  {
   "cell_type": "markdown",
   "metadata": {},
   "source": [
    "I'm not sure why but dropping this gives a higher accuracy."
   ]
  },
  {
   "cell_type": "code",
   "execution_count": 29,
   "metadata": {},
   "outputs": [],
   "source": [
    "#impute nulls for continuous data - numerical\n",
    "\n",
    "#fill null age values with average age and of passengers and fare in both training and test data\n",
    "train_data['Age'] = train_data['Age'].fillna(train_data['Age'].mean())\n",
    "test_data['Age'] = test_data['Age'].fillna(test_data['Age'].mean())\n",
    "\n",
    "#use median as Fare distribution is not normal\n",
    "test_data['Fare'] = test_data['Fare'].fillna(test_data['Fare'].median())"
   ]
  },
  {
   "cell_type": "code",
   "execution_count": 31,
   "metadata": {},
   "outputs": [
    {
     "name": "stdout",
     "output_type": "stream",
     "text": [
      "The ratio of survived men : %18.89\n",
      "The ratio of survived women : %74.04\n"
     ]
    }
   ],
   "source": [
    "#Code examples, not used\n",
    "\n",
    "#Mapping\n",
    "#embarkment = {'S': 0, 'C': 1, 'Q': 2}\n",
    "#train_data['embarked_id'] = train_data['Embarked'].map(embarkment)\n",
    "#test_data['embarked_id'] = train_data['Embarked'].map(embarkment)\n",
    "\n",
    "#Ratio of men to women survival\n",
    "Men = train_data[train_data['Sex'] == 'male']['Sex'].count()\n",
    "survived_men = train_data[(train_data['Sex'] == 'male') & (train_data['Survived'] == 1)]['Sex'].count()\n",
    "Women = train_data[train_data['Sex'] == 'female']['Sex'].count()\n",
    "survived_women = train_data[(train_data['Sex'] == 'female') & (train_data['Survived'] == 1)]['Sex'].count()\n",
    "\n",
    "print('The ratio of survived men : '+ '%' +str(round(100*survived_men / Men, 2)) )\n",
    "print('The ratio of survived women : '+ '%' +str(round(100*survived_women / Women, 2)) )"
   ]
  },
  {
   "cell_type": "code",
   "execution_count": null,
   "metadata": {},
   "outputs": [],
   "source": [
    "#replicate all features on training onto test\n",
    "\n",
    "test_data['Title'] = test_data.Name.str.extract(r', (\\w+)\\.')\n",
    "test_data['Ticket_letter'] = test_data.Ticket.str.extract('([a-zA-Z]+)')\n",
    "test_data['Cabin_letter'] = test_data.Cabin.str.extract('([a-zA-Z])')\n",
    "test_data['Fare_log'] = np.log(test_data.Fare+1)"
   ]
  },
  {
   "cell_type": "markdown",
   "metadata": {},
   "source": [
    "Both test and training data sets must have same number of features."
   ]
  },
  {
   "cell_type": "markdown",
   "metadata": {},
   "source": [
    "**Data Scaling**"
   ]
  },
  {
   "cell_type": "code",
   "execution_count": null,
   "metadata": {},
   "outputs": [],
   "source": [
    "train_data[['Age','SibSp','Parch','Fare_log']]= StandardScaler().fit_transform(train_data[['Age','SibSp','Parch','Fare_log']])\n",
    "test_data[['Age','SibSp','Parch','Fare_log']]= StandardScaler().fit_transform(test_data[['Age','SibSp','Parch','Fare_log']])"
   ]
  },
  {
   "cell_type": "markdown",
   "metadata": {},
   "source": [
    "Scaling numerical data."
   ]
  },
  {
   "cell_type": "code",
   "execution_count": null,
   "metadata": {},
   "outputs": [],
   "source": [
    "#Pclass should be categorical\n",
    "train_data['Pclass'] = train_data['Pclass'].astype(str)\n",
    "test_data['Pclass'] = test_data['Pclass'].astype(str)\n",
    "\n",
    "train_data.fillna('None', inplace=True)\n",
    "test_data.fillna('None', inplace=True)\n",
    "\n",
    "encode=OneHotEncoder(handle_unknown='ignore')\n",
    "train_data_final=encode.fit_transform(train_data[['Pclass','Sex','Age','SibSp','Parch',\n",
    "                                     'Embarked','Fare_log', 'Cabin_letter', 'Ticket_letter', 'Title']])\n",
    "test_data_final=encode.transform(test_data[['Pclass','Sex','Age','SibSp','Parch',\n",
    "                                     'Embarked','Fare_log', 'Cabin_letter', 'Ticket_letter', 'Title']])"
   ]
  },
  {
   "cell_type": "markdown",
   "metadata": {},
   "source": [
    "Encoding data with OHE over pd.get_dummies as it gave differing number of features between test and training data. Didn't want to manually fix feature lengths. \n",
    "\n",
    "Possible to use pd.get_dummies by concat both training and test sets, but that is bad practise."
   ]
  },
  {
   "cell_type": "code",
   "execution_count": null,
   "metadata": {},
   "outputs": [],
   "source": [
    "train_data_final"
   ]
  },
  {
   "cell_type": "code",
   "execution_count": null,
   "metadata": {},
   "outputs": [],
   "source": [
    "test_data_final"
   ]
  },
  {
   "cell_type": "code",
   "execution_count": null,
   "metadata": {},
   "outputs": [],
   "source": [
    "#Designate X and Y for ML Modelling\n",
    "\n",
    "y = train_data['Survived']\n",
    "X = train_data_final"
   ]
  },
  {
   "cell_type": "code",
   "execution_count": null,
   "metadata": {},
   "outputs": [],
   "source": [
    "#run through several common algorithms, all default settings - still learning tuning performance\n",
    "\n",
    "rForest = RandomForestClassifier()\n",
    "rForest.fit(X, y)\n",
    "rForest_score = round(rForest.score(X, y) * 100, 2)\n",
    "\n",
    "dTree = DecisionTreeClassifier()\n",
    "dTree.fit(X, y)\n",
    "dTree_score = round(dTree.score(X, y) * 100, 2)\n",
    "\n",
    "logReg = LogisticRegression()\n",
    "logReg.fit(X, y)\n",
    "logReg_score = round(logReg.score(X, y) * 100, 2)\n",
    "\n",
    "KNC = KNeighborsClassifier()\n",
    "KNC.fit(X, y)\n",
    "KNC_score = round(KNC.score(X, y) * 100, 2)\n",
    "\n",
    "result = pd.DataFrame({\n",
    "    'Model': ['Random Forest','Decision Tree','LogisticRegression','K Neighbors Classifier'],\n",
    "    'Score': [rForest_score, dTree_score, logReg_score, KNC_score]})\n",
    "result"
   ]
  },
  {
   "cell_type": "markdown",
   "metadata": {},
   "source": [
    "We will be proceeding with **Random Forest**."
   ]
  },
  {
   "cell_type": "markdown",
   "metadata": {},
   "source": [
    "**Best Parameters** - Ignore this part"
   ]
  },
  {
   "cell_type": "code",
   "execution_count": null,
   "metadata": {},
   "outputs": [],
   "source": [
    "cv = StratifiedKFold(n_splits=3, random_state=None, shuffle=False)"
   ]
  },
  {
   "cell_type": "code",
   "execution_count": null,
   "metadata": {},
   "outputs": [],
   "source": [
    "model = RandomForestClassifier(random_state=1)\n",
    "parameter = [{\n",
    "    'n_estimators': [100, 350, 500],\n",
    "    'min_samples_split': [6, 8, 10],\n",
    "    'min_samples_leaf': [2, 4, 6]\n",
    "}]\n",
    "grid = GridSearchCV(model, param_grid = parameter, cv=cv, refit=True, verbose=1, n_jobs=-1)\n",
    "grid.fit(X, y)\n",
    "print(grid.best_estimator_)"
   ]
  },
  {
   "cell_type": "code",
   "execution_count": null,
   "metadata": {},
   "outputs": [],
   "source": [
    "model = RandomForestClassifier(min_samples_leaf=2, min_samples_split=6,\n",
    "                       n_estimators=350, random_state=1)\n",
    "model.fit(X, y)"
   ]
  },
  {
   "cell_type": "markdown",
   "metadata": {},
   "source": [
    "**Submission**"
   ]
  },
  {
   "cell_type": "code",
   "execution_count": null,
   "metadata": {},
   "outputs": [],
   "source": [
    "#default settings seems to give the best result\n",
    "\n",
    "test = rForest.predict(test_data_final)\n",
    "submission = pd.DataFrame({\n",
    "    'PassengerId': test_data2['PassengerId'],\n",
    "    'Survived': test\n",
    "})\n",
    "\n",
    "submission.to_csv('submission.csv', index=False)"
   ]
  },
  {
   "cell_type": "markdown",
   "metadata": {},
   "source": [
    "Final Accuracy : **79.904%**\n",
    "\n",
    "\n",
    "Rank **545** as of *23/09/2021* (top 2%)"
   ]
  }
 ],
 "metadata": {
  "kernelspec": {
   "display_name": "Python 3",
   "language": "python",
   "name": "python3"
  },
  "language_info": {
   "codemirror_mode": {
    "name": "ipython",
    "version": 3
   },
   "file_extension": ".py",
   "mimetype": "text/x-python",
   "name": "python",
   "nbconvert_exporter": "python",
   "pygments_lexer": "ipython3",
   "version": "3.8.5"
  }
 },
 "nbformat": 4,
 "nbformat_minor": 4
}
