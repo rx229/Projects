{
 "cells": [
  {
   "cell_type": "markdown",
   "id": "2805bbd2-319e-4499-bacf-0f56cb52d027",
   "metadata": {},
   "source": [
    "## India Plastic Waste Trade\n",
    "\n",
    "##### Data Preparation"
   ]
  },
  {
   "cell_type": "code",
   "execution_count": 1,
   "id": "9eecb63b-745e-4cdd-ae1b-8a0cb6cf3266",
   "metadata": {},
   "outputs": [],
   "source": [
    "import pandas as pd\n",
    "import numpy as np\n",
    "import matplotlib.pyplot as plt"
   ]
  },
  {
   "cell_type": "code",
   "execution_count": 2,
   "id": "ea74fb1b-cd64-455e-868f-1b0f116a17ba",
   "metadata": {},
   "outputs": [],
   "source": [
    "train = pd.read_csv('train.csv')\n",
    "test = pd.read_csv('test.csv')\n",
    "\n",
    "train['index'] = 0\n",
    "test['index'] = 1\n",
    "\n",
    "y = train['Trade Value']\n",
    "train = train.drop(['Trade Value'], axis=1)"
   ]
  },
  {
   "cell_type": "markdown",
   "id": "3e65a6a7-458b-4eed-84e5-862f6909ffee",
   "metadata": {},
   "source": [
    "Skipping exploratory data analysis as this was already completed in Tableau."
   ]
  },
  {
   "cell_type": "code",
   "execution_count": 3,
   "id": "560d5a6e-0894-4b7c-bd4b-38cdb96e0503",
   "metadata": {},
   "outputs": [],
   "source": [
    "total = pd.concat([train, test])\n",
    "total = total.drop(['Continent'], axis=1)"
   ]
  },
  {
   "cell_type": "code",
   "execution_count": 4,
   "id": "ce5a9946-eea1-49b3-8140-a7cfb9896430",
   "metadata": {},
   "outputs": [],
   "source": [
    "total = pd.get_dummies(total)"
   ]
  },
  {
   "cell_type": "code",
   "execution_count": 5,
   "id": "f6663954-fe9f-40a6-ae24-7ecca61fcbbd",
   "metadata": {},
   "outputs": [],
   "source": [
    "X = total[total['index'] == 0]\n",
    "final = total[total['index'] == 1]\n",
    "\n",
    "X = X.drop('index', axis = 1)\n",
    "final = final.drop('index', axis = 1)"
   ]
  },
  {
   "cell_type": "markdown",
   "id": "0bc14296-3541-4afb-bc0a-535ee1ffc69d",
   "metadata": {},
   "source": [
    "##### Modeling"
   ]
  },
  {
   "cell_type": "code",
   "execution_count": 6,
   "id": "8bd774e7-bab7-4ba2-b80b-74e87f745dd7",
   "metadata": {},
   "outputs": [],
   "source": [
    "import pandas as pd\n",
    "import numpy as np\n",
    "import matplotlib.pyplot as plt\n",
    "import seaborn as sns\n",
    "\n",
    "from sklearn.model_selection import train_test_split, cross_val_score\n",
    "from sklearn.preprocessing import StandardScaler\n",
    "from sklearn.metrics import mean_squared_error"
   ]
  },
  {
   "cell_type": "code",
   "execution_count": 7,
   "id": "2fd9873c-04f1-4a9a-9662-9572c9f47cfb",
   "metadata": {},
   "outputs": [],
   "source": [
    "#splitting data\n",
    "X_train, X_test, y_train, y_test = train_test_split(X, y, test_size=0.2, random_state=1)\n",
    "\n",
    "#scaling\n",
    "scaler = StandardScaler().fit(X_train)\n",
    "\n",
    "X_train_scaled = pd.DataFrame(scaler.transform(X_train), columns=list(X_train.columns))\n",
    "X_test_scaled = pd.DataFrame(scaler.transform(X_test), columns=list(X_test.columns))\n",
    "\n",
    "#scaling whole set with X_train yields better results\n",
    "final = pd.DataFrame(scaler.transform(final), columns=list(final.columns))\n",
    "X = pd.DataFrame(scaler.transform(X), columns=list(X.columns))"
   ]
  },
  {
   "cell_type": "code",
   "execution_count": 8,
   "id": "455d7983-0755-43ae-bf55-4e58fdd99122",
   "metadata": {},
   "outputs": [
    {
     "name": "stderr",
     "output_type": "stream",
     "text": [
      "C:\\Users\\tozhy\\AppData\\Roaming\\Python\\Python39\\site-packages\\xgboost\\compat.py:31: FutureWarning: pandas.Int64Index is deprecated and will be removed from pandas in a future version. Use pandas.Index with the appropriate dtype instead.\n",
      "  from pandas import MultiIndex, Int64Index\n"
     ]
    }
   ],
   "source": [
    "from xgboost import XGBRegressor\n",
    "from lightgbm import LGBMRegressor\n",
    "from sklearn.ensemble import RandomForestRegressor\n",
    "from sklearn.tree import DecisionTreeRegressor\n",
    "from sklearn.gaussian_process import GaussianProcessRegressor\n",
    "from sklearn.linear_model import LinearRegression\n",
    "from sklearn.linear_model import Ridge, Lasso\n",
    "from sklearn.linear_model import BayesianRidge\n",
    "from sklearn.linear_model import ElasticNet\n",
    "from sklearn.svm import SVR\n",
    "from sklearn.kernel_ridge import KernelRidge\n",
    "from bayes_opt import BayesianOptimization\n",
    "from sklearn.linear_model import LogisticRegression\n"
   ]
  },
  {
   "cell_type": "code",
   "execution_count": 15,
   "id": "69985086-1783-40b9-bd26-10e643fa25a1",
   "metadata": {},
   "outputs": [
    {
     "name": "stderr",
     "output_type": "stream",
     "text": [
      "C:\\Users\\tozhy\\AppData\\Roaming\\Python\\Python39\\site-packages\\xgboost\\data.py:208: FutureWarning: pandas.Int64Index is deprecated and will be removed from pandas in a future version. Use pandas.Index with the appropriate dtype instead.\n",
      "  from pandas import MultiIndex, Int64Index\n",
      "C:\\Users\\tozhy\\AppData\\Local\\Temp\\ipykernel_15584\\4154963562.py:27: FutureWarning: The frame.append method is deprecated and will be removed from pandas in a future version. Use pandas.concat instead.\n",
      "  df_models = df_models.append(row, ignore_index=True)\n",
      "C:\\Users\\tozhy\\AppData\\Local\\Temp\\ipykernel_15584\\4154963562.py:27: FutureWarning: The frame.append method is deprecated and will be removed from pandas in a future version. Use pandas.concat instead.\n",
      "  df_models = df_models.append(row, ignore_index=True)\n",
      "C:\\Users\\tozhy\\AppData\\Local\\Temp\\ipykernel_15584\\4154963562.py:27: FutureWarning: The frame.append method is deprecated and will be removed from pandas in a future version. Use pandas.concat instead.\n",
      "  df_models = df_models.append(row, ignore_index=True)\n",
      "C:\\Users\\tozhy\\AppData\\Local\\Temp\\ipykernel_15584\\4154963562.py:27: FutureWarning: The frame.append method is deprecated and will be removed from pandas in a future version. Use pandas.concat instead.\n",
      "  df_models = df_models.append(row, ignore_index=True)\n",
      "C:\\Users\\tozhy\\AppData\\Local\\Temp\\ipykernel_15584\\4154963562.py:27: FutureWarning: The frame.append method is deprecated and will be removed from pandas in a future version. Use pandas.concat instead.\n",
      "  df_models = df_models.append(row, ignore_index=True)\n",
      "C:\\Users\\tozhy\\AppData\\Local\\Temp\\ipykernel_15584\\4154963562.py:27: FutureWarning: The frame.append method is deprecated and will be removed from pandas in a future version. Use pandas.concat instead.\n",
      "  df_models = df_models.append(row, ignore_index=True)\n",
      "C:\\Users\\tozhy\\AppData\\Local\\Temp\\ipykernel_15584\\4154963562.py:27: FutureWarning: The frame.append method is deprecated and will be removed from pandas in a future version. Use pandas.concat instead.\n",
      "  df_models = df_models.append(row, ignore_index=True)\n",
      "C:\\Users\\tozhy\\AppData\\Local\\Temp\\ipykernel_15584\\4154963562.py:27: FutureWarning: The frame.append method is deprecated and will be removed from pandas in a future version. Use pandas.concat instead.\n",
      "  df_models = df_models.append(row, ignore_index=True)\n",
      "C:\\Users\\tozhy\\AppData\\Local\\Temp\\ipykernel_15584\\4154963562.py:27: FutureWarning: The frame.append method is deprecated and will be removed from pandas in a future version. Use pandas.concat instead.\n",
      "  df_models = df_models.append(row, ignore_index=True)\n"
     ]
    },
    {
     "data": {
      "text/html": [
       "<div>\n",
       "<style scoped>\n",
       "    .dataframe tbody tr th:only-of-type {\n",
       "        vertical-align: middle;\n",
       "    }\n",
       "\n",
       "    .dataframe tbody tr th {\n",
       "        vertical-align: top;\n",
       "    }\n",
       "\n",
       "    .dataframe thead th {\n",
       "        text-align: right;\n",
       "    }\n",
       "</style>\n",
       "<table border=\"1\" class=\"dataframe\">\n",
       "  <thead>\n",
       "    <tr style=\"text-align: right;\">\n",
       "      <th></th>\n",
       "      <th>model</th>\n",
       "      <th>rmse</th>\n",
       "    </tr>\n",
       "  </thead>\n",
       "  <tbody>\n",
       "    <tr>\n",
       "      <th>0</th>\n",
       "      <td>XGBRegressor</td>\n",
       "      <td>813640.720237</td>\n",
       "    </tr>\n",
       "    <tr>\n",
       "      <th>2</th>\n",
       "      <td>RandomForestRegressor</td>\n",
       "      <td>890022.428314</td>\n",
       "    </tr>\n",
       "    <tr>\n",
       "      <th>3</th>\n",
       "      <td>DecisionTreeRegressor</td>\n",
       "      <td>1156355.777855</td>\n",
       "    </tr>\n",
       "    <tr>\n",
       "      <th>1</th>\n",
       "      <td>LGBMRegressor</td>\n",
       "      <td>1711547.629394</td>\n",
       "    </tr>\n",
       "    <tr>\n",
       "      <th>6</th>\n",
       "      <td>Ridge</td>\n",
       "      <td>3681420.430772</td>\n",
       "    </tr>\n",
       "    <tr>\n",
       "      <th>8</th>\n",
       "      <td>ElasticNet</td>\n",
       "      <td>3852425.672193</td>\n",
       "    </tr>\n",
       "    <tr>\n",
       "      <th>7</th>\n",
       "      <td>BayesianRidge</td>\n",
       "      <td>4530570.835415</td>\n",
       "    </tr>\n",
       "    <tr>\n",
       "      <th>5</th>\n",
       "      <td>SVR</td>\n",
       "      <td>4623650.301496</td>\n",
       "    </tr>\n",
       "    <tr>\n",
       "      <th>4</th>\n",
       "      <td>GaussianProcessRegressor</td>\n",
       "      <td>76260691.458612</td>\n",
       "    </tr>\n",
       "  </tbody>\n",
       "</table>\n",
       "</div>"
      ],
      "text/plain": [
       "                      model             rmse\n",
       "0              XGBRegressor    813640.720237\n",
       "2     RandomForestRegressor    890022.428314\n",
       "3     DecisionTreeRegressor   1156355.777855\n",
       "1             LGBMRegressor   1711547.629394\n",
       "6                     Ridge   3681420.430772\n",
       "8                ElasticNet   3852425.672193\n",
       "7             BayesianRidge   4530570.835415\n",
       "5                       SVR   4623650.301496\n",
       "4  GaussianProcessRegressor  76260691.458612"
      ]
     },
     "execution_count": 15,
     "metadata": {},
     "output_type": "execute_result"
    }
   ],
   "source": [
    "#list of regressors created\n",
    "regressors= {\n",
    "    \"XGBRegressor\": XGBRegressor(),\n",
    "    \"LGBMRegressor\": LGBMRegressor(),\n",
    "    \"RandomForestRegressor\": RandomForestRegressor(),\n",
    "    \"DecisionTreeRegressor\": DecisionTreeRegressor(),\n",
    "    \"GaussianProcessRegressor\": GaussianProcessRegressor(),\n",
    "    \"SVR\": SVR(),\n",
    "    \"Ridge\":Ridge(),\n",
    "    \"BayesianRidge\": BayesianRidge(),\n",
    "    \"ElasticNet\": ElasticNet(),\n",
    "}\n",
    "\n",
    "df_models = pd.DataFrame(columns=['model', 'rmse'])\n",
    "\n",
    "#rank regressors by rmse\n",
    "for i in regressors:\n",
    "\n",
    "    reg = regressors[i]\n",
    "    model = reg.fit(X_train_scaled, y_train)\n",
    "    y_pred = model.predict(X_test_scaled)\n",
    "\n",
    "    row = {'model': i,\n",
    "           'rmse': np.sqrt(mean_squared_error(y_test, y_pred))\n",
    "    }\n",
    "\n",
    "    df_models = df_models.append(row, ignore_index=True)\n",
    "    \n",
    "df_models.sort_values(by='rmse', ascending=True)"
   ]
  },
  {
   "cell_type": "markdown",
   "id": "9814119f-53ec-4967-b7ec-aede0dcd1d6f",
   "metadata": {},
   "source": [
    "XGBRegressor has lowest error criterion.\n",
    "\n",
    "Selected as model."
   ]
  },
  {
   "cell_type": "code",
   "execution_count": 9,
   "id": "a897bdc0-ffc5-433f-a65d-e00caf4a4d0c",
   "metadata": {},
   "outputs": [],
   "source": [
    "model = XGBRegressor(random_state=1)"
   ]
  },
  {
   "cell_type": "code",
   "execution_count": 10,
   "id": "26a219e2-9232-4518-af80-034ca9309ec5",
   "metadata": {},
   "outputs": [
    {
     "name": "stderr",
     "output_type": "stream",
     "text": [
      "C:\\Users\\tozhy\\AppData\\Roaming\\Python\\Python39\\site-packages\\xgboost\\data.py:208: FutureWarning: pandas.Int64Index is deprecated and will be removed from pandas in a future version. Use pandas.Index with the appropriate dtype instead.\n",
      "  from pandas import MultiIndex, Int64Index\n"
     ]
    }
   ],
   "source": [
    "y_pred = model.fit(X_train_scaled, y_train).predict(X_test_scaled)"
   ]
  },
  {
   "cell_type": "code",
   "execution_count": 11,
   "id": "ee6c6ae3-f4e5-4399-91e5-c8d083b770be",
   "metadata": {},
   "outputs": [
    {
     "name": "stderr",
     "output_type": "stream",
     "text": [
      "C:\\Users\\tozhy\\anaconda3\\lib\\site-packages\\pandas\\core\\arraylike.py:397: RuntimeWarning: invalid value encountered in log\n",
      "  result = getattr(ufunc, method)(*inputs, **kwargs)\n"
     ]
    },
    {
     "data": {
      "text/plain": [
       "Text(0.5, 0, 'Sample Number')"
      ]
     },
     "execution_count": 11,
     "metadata": {},
     "output_type": "execute_result"
    },
    {
     "data": {
      "image/png": "[encoded data removed]",
      "text/plain": [
       "<Figure size 2160x504 with 2 Axes>"
      ]
     },
     "metadata": {
      "needs_background": "light"
     },
     "output_type": "display_data"
    }
   ],
   "source": [
    "#test\n",
    "test_df = pd.DataFrame({\n",
    "    'adjusted': y_pred,\n",
    "    'control': y_pred\n",
    "})\n",
    "\n",
    "fig, ax = plt.subplots(1, 2, figsize=(30, 7), constrained_layout=True)\n",
    "\n",
    "ax[0].hist(np.log(test_df['adjusted']), density = True, alpha=0.7, label='Model',bins=100)\n",
    "ax[0].hist(np.log(y_test), density = True, alpha=0.7, label='Actual', bins=100)\n",
    "ax[0].legend(loc='upper right')\n",
    "\n",
    "test_df['control'] = y_test.values\n",
    "\n",
    "ax[1].plot(test_df[0:200])\n",
    "ax[1].legend(['Predicted', 'Actual'])\n",
    "ax[1].set_ylabel('Value (USD)')\n",
    "ax[1].set_xlabel('Sample Number')"
   ]
  },
  {
   "cell_type": "code",
   "execution_count": 12,
   "id": "02dc4c9f-c063-44af-bf27-aef4647a437b",
   "metadata": {},
   "outputs": [],
   "source": [
    "y_pred_final = model.fit(X, y).predict(final)"
   ]
  },
  {
   "cell_type": "code",
   "execution_count": 13,
   "id": "5fa03073-3ba6-4a18-acdf-c01b315fbbde",
   "metadata": {},
   "outputs": [],
   "source": [
    "submission = pd.DataFrame({\n",
    "    'Trade Value': y_pred_final\n",
    "})"
   ]
  },
  {
   "cell_type": "code",
   "execution_count": 14,
   "id": "54cc1ab9-40bc-4889-b2d6-67aedf916784",
   "metadata": {},
   "outputs": [],
   "source": [
    "submission.loc[submission['Trade Value']<0,'Trade Value'] = 0"
   ]
  },
  {
   "cell_type": "code",
   "execution_count": 15,
   "id": "d0706e70-d12a-4d95-8776-71991c22344d",
   "metadata": {},
   "outputs": [],
   "source": [
    "submission.to_csv('submission.csv', index=False)"
   ]
  },
  {
   "cell_type": "code",
   "execution_count": null,
   "id": "18c55894-faf3-4ee3-aa6b-2aa8b33cdc6c",
   "metadata": {},
   "outputs": [],
   "source": []
  }
 ],
 "metadata": {
  "kernelspec": {
   "display_name": "Python 3 (ipykernel)",
   "language": "python",
   "name": "python3"
  },
  "language_info": {
   "codemirror_mode": {
    "name": "ipython",
    "version": 3
   },
   "file_extension": ".py",
   "mimetype": "text/x-python",
   "name": "python",
   "nbconvert_exporter": "python",
   "pygments_lexer": "ipython3",
   "version": "3.9.12"
  }
 },
 "nbformat": 4,
 "nbformat_minor": 5
}
