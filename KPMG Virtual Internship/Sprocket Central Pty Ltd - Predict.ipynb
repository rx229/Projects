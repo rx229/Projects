{
 "cells": [
  {
   "cell_type": "markdown",
   "metadata": {},
   "source": [
    "# KPMG Data Analytics Virtual Internship\n",
    "\n",
    "A simple solution to the KPMG Data Analytics Virtual Internship:\n",
    "\n",
    "\"*Use the Sprocket data to try to predict which new customers will be the most  will valuable*\"\n"
   ]
  },
  {
   "cell_type": "code",
   "execution_count": 1,
   "metadata": {},
   "outputs": [],
   "source": [
    "# Data Analysis\n",
    "import numpy as np\n",
    "import pandas as pd\n",
    "\n",
    "# Plotting\n",
    "import seaborn as sns\n",
    "from matplotlib import pyplot as plt\n",
    "\n",
    "#Scaling and Encoding\n",
    "from sklearn.preprocessing import StandardScaler\n",
    "from sklearn.preprocessing import MinMaxScaler\n",
    "from sklearn.preprocessing import OneHotEncoder\n",
    "\n",
    "# ML Models\n",
    "from sklearn.ensemble import RandomForestClassifier\n",
    "from sklearn.cluster import KMeans\n",
    "\n",
    "# Tuning\n",
    "from sklearn.model_selection import cross_val_score\n",
    "\n",
    "#Filter unnecessary warnings\n",
    "import warnings\n",
    "warnings.filterwarnings('ignore')\n",
    "\n",
    "# set seed for reproducibility\n",
    "np.random.seed(0)"
   ]
  },
  {
   "cell_type": "code",
   "execution_count": 2,
   "metadata": {},
   "outputs": [
    {
     "data": {
      "text/html": [
       "<div>\n",
       "<style scoped>\n",
       "    .dataframe tbody tr th:only-of-type {\n",
       "        vertical-align: middle;\n",
       "    }\n",
       "\n",
       "    .dataframe tbody tr th {\n",
       "        vertical-align: top;\n",
       "    }\n",
       "\n",
       "    .dataframe thead th {\n",
       "        text-align: right;\n",
       "    }\n",
       "</style>\n",
       "<table border=\"1\" class=\"dataframe\">\n",
       "  <thead>\n",
       "    <tr style=\"text-align: right;\">\n",
       "      <th></th>\n",
       "      <th>customer_id</th>\n",
       "      <th>gender</th>\n",
       "      <th>past_3_years_bike_related_purchases</th>\n",
       "      <th>Age</th>\n",
       "      <th>job_title</th>\n",
       "      <th>job_industry_category</th>\n",
       "      <th>wealth_segment</th>\n",
       "      <th>owns_car</th>\n",
       "      <th>tenure</th>\n",
       "      <th>postcode</th>\n",
       "      <th>state</th>\n",
       "      <th>country</th>\n",
       "      <th>property_valuation</th>\n",
       "      <th>R</th>\n",
       "      <th>M</th>\n",
       "      <th>F</th>\n",
       "    </tr>\n",
       "  </thead>\n",
       "  <tbody>\n",
       "    <tr>\n",
       "      <th>0</th>\n",
       "      <td>1</td>\n",
       "      <td>F</td>\n",
       "      <td>93</td>\n",
       "      <td>68.023695</td>\n",
       "      <td>Executive Secretary</td>\n",
       "      <td>Health</td>\n",
       "      <td>Mass Customer</td>\n",
       "      <td>Yes</td>\n",
       "      <td>11.0</td>\n",
       "      <td>2016.0</td>\n",
       "      <td>New South Wales</td>\n",
       "      <td>Australia</td>\n",
       "      <td>10.0</td>\n",
       "      <td>1574.027586</td>\n",
       "      <td>274.371818</td>\n",
       "      <td>93</td>\n",
       "    </tr>\n",
       "    <tr>\n",
       "      <th>1</th>\n",
       "      <td>2</td>\n",
       "      <td>Male</td>\n",
       "      <td>81</td>\n",
       "      <td>40.826434</td>\n",
       "      <td>Administrative Officer</td>\n",
       "      <td>Financial Services</td>\n",
       "      <td>Mass Customer</td>\n",
       "      <td>Yes</td>\n",
       "      <td>16.0</td>\n",
       "      <td>2153.0</td>\n",
       "      <td>New South Wales</td>\n",
       "      <td>Australia</td>\n",
       "      <td>10.0</td>\n",
       "      <td>1563.663950</td>\n",
       "      <td>742.086667</td>\n",
       "      <td>81</td>\n",
       "    </tr>\n",
       "    <tr>\n",
       "      <th>2</th>\n",
       "      <td>4</td>\n",
       "      <td>Male</td>\n",
       "      <td>33</td>\n",
       "      <td>60.042873</td>\n",
       "      <td>NaN</td>\n",
       "      <td>IT</td>\n",
       "      <td>Mass Customer</td>\n",
       "      <td>No</td>\n",
       "      <td>7.0</td>\n",
       "      <td>4211.0</td>\n",
       "      <td>QLD</td>\n",
       "      <td>Australia</td>\n",
       "      <td>9.0</td>\n",
       "      <td>1606.663950</td>\n",
       "      <td>110.285000</td>\n",
       "      <td>33</td>\n",
       "    </tr>\n",
       "    <tr>\n",
       "      <th>3</th>\n",
       "      <td>3</td>\n",
       "      <td>Male</td>\n",
       "      <td>61</td>\n",
       "      <td>67.749722</td>\n",
       "      <td>Recruiting Manager</td>\n",
       "      <td>Property</td>\n",
       "      <td>Mass Customer</td>\n",
       "      <td>Yes</td>\n",
       "      <td>15.0</td>\n",
       "      <td>NaN</td>\n",
       "      <td>NaN</td>\n",
       "      <td>NaN</td>\n",
       "      <td>NaN</td>\n",
       "      <td>1576.663950</td>\n",
       "      <td>420.351250</td>\n",
       "      <td>61</td>\n",
       "    </tr>\n",
       "    <tr>\n",
       "      <th>4</th>\n",
       "      <td>5</td>\n",
       "      <td>Female</td>\n",
       "      <td>56</td>\n",
       "      <td>44.423695</td>\n",
       "      <td>Senior Editor</td>\n",
       "      <td>NaN</td>\n",
       "      <td>Affluent Customer</td>\n",
       "      <td>Yes</td>\n",
       "      <td>8.0</td>\n",
       "      <td>2448.0</td>\n",
       "      <td>New South Wales</td>\n",
       "      <td>Australia</td>\n",
       "      <td>4.0</td>\n",
       "      <td>1566.830617</td>\n",
       "      <td>399.156667</td>\n",
       "      <td>56</td>\n",
       "    </tr>\n",
       "  </tbody>\n",
       "</table>\n",
       "</div>"
      ],
      "text/plain": [
       "   customer_id  gender  past_3_years_bike_related_purchases        Age  \\\n",
       "0            1       F                                   93  68.023695   \n",
       "1            2    Male                                   81  40.826434   \n",
       "2            4    Male                                   33  60.042873   \n",
       "3            3    Male                                   61  67.749722   \n",
       "4            5  Female                                   56  44.423695   \n",
       "\n",
       "                job_title job_industry_category     wealth_segment owns_car  \\\n",
       "0     Executive Secretary                Health      Mass Customer      Yes   \n",
       "1  Administrative Officer    Financial Services      Mass Customer      Yes   \n",
       "2                     NaN                    IT      Mass Customer       No   \n",
       "3      Recruiting Manager              Property      Mass Customer      Yes   \n",
       "4           Senior Editor                   NaN  Affluent Customer      Yes   \n",
       "\n",
       "   tenure  postcode            state    country  property_valuation  \\\n",
       "0    11.0    2016.0  New South Wales  Australia                10.0   \n",
       "1    16.0    2153.0  New South Wales  Australia                10.0   \n",
       "2     7.0    4211.0              QLD  Australia                 9.0   \n",
       "3    15.0       NaN              NaN        NaN                 NaN   \n",
       "4     8.0    2448.0  New South Wales  Australia                 4.0   \n",
       "\n",
       "             R           M   F  \n",
       "0  1574.027586  274.371818  93  \n",
       "1  1563.663950  742.086667  81  \n",
       "2  1606.663950  110.285000  33  \n",
       "3  1576.663950  420.351250  61  \n",
       "4  1566.830617  399.156667  56  "
      ]
     },
     "execution_count": 2,
     "metadata": {},
     "output_type": "execute_result"
    }
   ],
   "source": [
    "#import csv into pd - training data\n",
    "train_data = pd.read_csv('train.csv')\n",
    "\n",
    "#import csv into pd - test data\n",
    "test_data = pd.read_csv('test.csv')\n",
    "\n",
    "train_data.head()"
   ]
  },
  {
   "cell_type": "markdown",
   "metadata": {},
   "source": [
    "**1. Data Exploration**\n",
    "\n",
    "- Understand nature of data (.describe(), .info(), value counts)\n",
    "- Visual analysis to be completed in Tableau dashboard\n",
    "\n",
    "**2. Data Preprocessing**\n",
    "\n",
    "- Data cleaning\n",
    "     - Imputing data\n",
    "     - Dropping Null values\n",
    "- Scaling and encoding\n",
    "\n",
    "**3. Exploratory Data Analysis**\n",
    "\n",
    "- Feature engineering - Customer ranking (RFM) features already completed\n",
    "    - Cluster into value groups\n",
    "\n",
    "**4. ML Modelling - Classification**\n",
    "- Model Building"
   ]
  },
  {
   "cell_type": "markdown",
   "metadata": {},
   "source": [
    "## 1. Data Exploration"
   ]
  },
  {
   "cell_type": "code",
   "execution_count": 3,
   "metadata": {},
   "outputs": [
    {
     "name": "stdout",
     "output_type": "stream",
     "text": [
      "Training data :  (3999, 16)\n",
      "Test data :  (1000, 12)\n"
     ]
    }
   ],
   "source": [
    "#Shapes of the dataset\n",
    "print(\"Training data : \", train_data.shape)\n",
    "print(\"Test data : \",  test_data.shape)"
   ]
  },
  {
   "cell_type": "code",
   "execution_count": 4,
   "metadata": {},
   "outputs": [
    {
     "name": "stdout",
     "output_type": "stream",
     "text": [
      "<class 'pandas.core.frame.DataFrame'>\n",
      "RangeIndex: 3999 entries, 0 to 3998\n",
      "Data columns (total 16 columns):\n",
      " #   Column                               Non-Null Count  Dtype  \n",
      "---  ------                               --------------  -----  \n",
      " 0   customer_id                          3999 non-null   int64  \n",
      " 1   gender                               3999 non-null   object \n",
      " 2   past_3_years_bike_related_purchases  3999 non-null   int64  \n",
      " 3   Age                                  3999 non-null   float64\n",
      " 4   job_title                            3493 non-null   object \n",
      " 5   job_industry_category                3343 non-null   object \n",
      " 6   wealth_segment                       3999 non-null   object \n",
      " 7   owns_car                             3999 non-null   object \n",
      " 8   tenure                               3912 non-null   float64\n",
      " 9   postcode                             3995 non-null   float64\n",
      " 10  state                                3995 non-null   object \n",
      " 11  country                              3995 non-null   object \n",
      " 12  property_valuation                   3995 non-null   float64\n",
      " 13  R                                    3491 non-null   float64\n",
      " 14  M                                    3491 non-null   float64\n",
      " 15  F                                    3999 non-null   int64  \n",
      "dtypes: float64(6), int64(3), object(7)\n",
      "memory usage: 500.0+ KB\n"
     ]
    },
    {
     "data": {
      "text/plain": [
       "customer_id                              0\n",
       "gender                                   0\n",
       "past_3_years_bike_related_purchases      0\n",
       "Age                                      0\n",
       "job_title                              506\n",
       "job_industry_category                  656\n",
       "wealth_segment                           0\n",
       "owns_car                                 0\n",
       "tenure                                  87\n",
       "postcode                                 4\n",
       "state                                    4\n",
       "country                                  4\n",
       "property_valuation                       4\n",
       "R                                      508\n",
       "M                                      508\n",
       "F                                        0\n",
       "dtype: int64"
      ]
     },
     "execution_count": 4,
     "metadata": {},
     "output_type": "execute_result"
    }
   ],
   "source": [
    "train_data.info()\n",
    "train_data.isnull().sum()"
   ]
  },
  {
   "cell_type": "code",
   "execution_count": 5,
   "metadata": {},
   "outputs": [
    {
     "name": "stdout",
     "output_type": "stream",
     "text": [
      "<class 'pandas.core.frame.DataFrame'>\n",
      "RangeIndex: 1000 entries, 0 to 999\n",
      "Data columns (total 12 columns):\n",
      " #   Column                               Non-Null Count  Dtype  \n",
      "---  ------                               --------------  -----  \n",
      " 0   gender                               1000 non-null   object \n",
      " 1   past_3_years_bike_related_purchases  1000 non-null   int64  \n",
      " 2   Age                                  983 non-null    float64\n",
      " 3   job_title                            894 non-null    object \n",
      " 4   job_industry_category                835 non-null    object \n",
      " 5   wealth_segment                       1000 non-null   object \n",
      " 6   owns_car                             1000 non-null   object \n",
      " 7   tenure                               1000 non-null   int64  \n",
      " 8   postcode                             1000 non-null   int64  \n",
      " 9   state                                1000 non-null   object \n",
      " 10  country                              1000 non-null   object \n",
      " 11  property_valuation                   1000 non-null   int64  \n",
      "dtypes: float64(1), int64(4), object(7)\n",
      "memory usage: 93.9+ KB\n"
     ]
    },
    {
     "data": {
      "text/plain": [
       "gender                                   0\n",
       "past_3_years_bike_related_purchases      0\n",
       "Age                                     17\n",
       "job_title                              106\n",
       "job_industry_category                  165\n",
       "wealth_segment                           0\n",
       "owns_car                                 0\n",
       "tenure                                   0\n",
       "postcode                                 0\n",
       "state                                    0\n",
       "country                                  0\n",
       "property_valuation                       0\n",
       "dtype: int64"
      ]
     },
     "execution_count": 5,
     "metadata": {},
     "output_type": "execute_result"
    }
   ],
   "source": [
    "test_data.info()\n",
    "test_data.isnull().sum()"
   ]
  },
  {
   "cell_type": "markdown",
   "metadata": {},
   "source": [
    "- Both job_title and job_industry_category missing a lot of values, to be be filled with 'None'. \n",
    "- Tenure and Age are continous data and missing values can be imputed, will need to check distribution if skewed. \n",
    "- Missing RFM values to be dropped, too many missing values to impute will skew clustering."
   ]
  },
  {
   "cell_type": "code",
   "execution_count": 6,
   "metadata": {},
   "outputs": [
    {
     "data": {
      "text/html": [
       "<div>\n",
       "<style scoped>\n",
       "    .dataframe tbody tr th:only-of-type {\n",
       "        vertical-align: middle;\n",
       "    }\n",
       "\n",
       "    .dataframe tbody tr th {\n",
       "        vertical-align: top;\n",
       "    }\n",
       "\n",
       "    .dataframe thead th {\n",
       "        text-align: right;\n",
       "    }\n",
       "</style>\n",
       "<table border=\"1\" class=\"dataframe\">\n",
       "  <thead>\n",
       "    <tr style=\"text-align: right;\">\n",
       "      <th></th>\n",
       "      <th>customer_id</th>\n",
       "      <th>past_3_years_bike_related_purchases</th>\n",
       "      <th>Age</th>\n",
       "      <th>tenure</th>\n",
       "      <th>postcode</th>\n",
       "      <th>property_valuation</th>\n",
       "      <th>R</th>\n",
       "      <th>M</th>\n",
       "      <th>F</th>\n",
       "    </tr>\n",
       "  </thead>\n",
       "  <tbody>\n",
       "    <tr>\n",
       "      <th>count</th>\n",
       "      <td>3999.000000</td>\n",
       "      <td>3999.000000</td>\n",
       "      <td>3999.000000</td>\n",
       "      <td>3912.000000</td>\n",
       "      <td>3995.000000</td>\n",
       "      <td>3995.000000</td>\n",
       "      <td>3491.000000</td>\n",
       "      <td>3491.000000</td>\n",
       "      <td>3999.000000</td>\n",
       "    </tr>\n",
       "    <tr>\n",
       "      <th>mean</th>\n",
       "      <td>2000.991748</td>\n",
       "      <td>48.887472</td>\n",
       "      <td>45.911081</td>\n",
       "      <td>10.654652</td>\n",
       "      <td>2985.480350</td>\n",
       "      <td>7.513892</td>\n",
       "      <td>1555.041591</td>\n",
       "      <td>555.940943</td>\n",
       "      <td>48.887472</td>\n",
       "    </tr>\n",
       "    <tr>\n",
       "      <th>std</th>\n",
       "      <td>1154.570372</td>\n",
       "      <td>28.718151</td>\n",
       "      <td>16.858414</td>\n",
       "      <td>5.658898</td>\n",
       "      <td>844.897454</td>\n",
       "      <td>2.825769</td>\n",
       "      <td>49.082125</td>\n",
       "      <td>237.579014</td>\n",
       "      <td>28.718151</td>\n",
       "    </tr>\n",
       "    <tr>\n",
       "      <th>min</th>\n",
       "      <td>1.000000</td>\n",
       "      <td>0.000000</td>\n",
       "      <td>19.579859</td>\n",
       "      <td>1.000000</td>\n",
       "      <td>2000.000000</td>\n",
       "      <td>1.000000</td>\n",
       "      <td>1380.163950</td>\n",
       "      <td>15.080000</td>\n",
       "      <td>0.000000</td>\n",
       "    </tr>\n",
       "    <tr>\n",
       "      <th>25%</th>\n",
       "      <td>1001.500000</td>\n",
       "      <td>24.000000</td>\n",
       "      <td>34.967530</td>\n",
       "      <td>6.000000</td>\n",
       "      <td>2200.000000</td>\n",
       "      <td>6.000000</td>\n",
       "      <td>1522.931807</td>\n",
       "      <td>390.271429</td>\n",
       "      <td>24.000000</td>\n",
       "    </tr>\n",
       "    <tr>\n",
       "      <th>50%</th>\n",
       "      <td>2001.000000</td>\n",
       "      <td>48.000000</td>\n",
       "      <td>44.459311</td>\n",
       "      <td>11.000000</td>\n",
       "      <td>2768.000000</td>\n",
       "      <td>8.000000</td>\n",
       "      <td>1555.263950</td>\n",
       "      <td>538.853333</td>\n",
       "      <td>48.000000</td>\n",
       "    </tr>\n",
       "    <tr>\n",
       "      <th>75%</th>\n",
       "      <td>3000.500000</td>\n",
       "      <td>73.000000</td>\n",
       "      <td>54.652462</td>\n",
       "      <td>15.000000</td>\n",
       "      <td>3750.000000</td>\n",
       "      <td>10.000000</td>\n",
       "      <td>1587.997283</td>\n",
       "      <td>699.749000</td>\n",
       "      <td>73.000000</td>\n",
       "    </tr>\n",
       "    <tr>\n",
       "      <th>max</th>\n",
       "      <td>4000.000000</td>\n",
       "      <td>99.000000</td>\n",
       "      <td>121.842873</td>\n",
       "      <td>22.000000</td>\n",
       "      <td>4883.000000</td>\n",
       "      <td>12.000000</td>\n",
       "      <td>1726.663950</td>\n",
       "      <td>1702.550000</td>\n",
       "      <td>99.000000</td>\n",
       "    </tr>\n",
       "  </tbody>\n",
       "</table>\n",
       "</div>"
      ],
      "text/plain": [
       "       customer_id  past_3_years_bike_related_purchases          Age  \\\n",
       "count  3999.000000                          3999.000000  3999.000000   \n",
       "mean   2000.991748                            48.887472    45.911081   \n",
       "std    1154.570372                            28.718151    16.858414   \n",
       "min       1.000000                             0.000000    19.579859   \n",
       "25%    1001.500000                            24.000000    34.967530   \n",
       "50%    2001.000000                            48.000000    44.459311   \n",
       "75%    3000.500000                            73.000000    54.652462   \n",
       "max    4000.000000                            99.000000   121.842873   \n",
       "\n",
       "            tenure     postcode  property_valuation            R            M  \\\n",
       "count  3912.000000  3995.000000         3995.000000  3491.000000  3491.000000   \n",
       "mean     10.654652  2985.480350            7.513892  1555.041591   555.940943   \n",
       "std       5.658898   844.897454            2.825769    49.082125   237.579014   \n",
       "min       1.000000  2000.000000            1.000000  1380.163950    15.080000   \n",
       "25%       6.000000  2200.000000            6.000000  1522.931807   390.271429   \n",
       "50%      11.000000  2768.000000            8.000000  1555.263950   538.853333   \n",
       "75%      15.000000  3750.000000           10.000000  1587.997283   699.749000   \n",
       "max      22.000000  4883.000000           12.000000  1726.663950  1702.550000   \n",
       "\n",
       "                 F  \n",
       "count  3999.000000  \n",
       "mean     48.887472  \n",
       "std      28.718151  \n",
       "min       0.000000  \n",
       "25%      24.000000  \n",
       "50%      48.000000  \n",
       "75%      73.000000  \n",
       "max      99.000000  "
      ]
     },
     "execution_count": 6,
     "metadata": {},
     "output_type": "execute_result"
    }
   ],
   "source": [
    "train_data.describe()"
   ]
  },
  {
   "cell_type": "code",
   "execution_count": 7,
   "metadata": {},
   "outputs": [
    {
     "data": {
      "text/html": [
       "<div>\n",
       "<style scoped>\n",
       "    .dataframe tbody tr th:only-of-type {\n",
       "        vertical-align: middle;\n",
       "    }\n",
       "\n",
       "    .dataframe tbody tr th {\n",
       "        vertical-align: top;\n",
       "    }\n",
       "\n",
       "    .dataframe thead th {\n",
       "        text-align: right;\n",
       "    }\n",
       "</style>\n",
       "<table border=\"1\" class=\"dataframe\">\n",
       "  <thead>\n",
       "    <tr style=\"text-align: right;\">\n",
       "      <th></th>\n",
       "      <th>gender</th>\n",
       "      <th>job_title</th>\n",
       "      <th>job_industry_category</th>\n",
       "      <th>wealth_segment</th>\n",
       "      <th>owns_car</th>\n",
       "      <th>state</th>\n",
       "      <th>country</th>\n",
       "    </tr>\n",
       "  </thead>\n",
       "  <tbody>\n",
       "    <tr>\n",
       "      <th>count</th>\n",
       "      <td>3999</td>\n",
       "      <td>3493</td>\n",
       "      <td>3343</td>\n",
       "      <td>3999</td>\n",
       "      <td>3999</td>\n",
       "      <td>3995</td>\n",
       "      <td>3995</td>\n",
       "    </tr>\n",
       "    <tr>\n",
       "      <th>unique</th>\n",
       "      <td>6</td>\n",
       "      <td>195</td>\n",
       "      <td>9</td>\n",
       "      <td>3</td>\n",
       "      <td>2</td>\n",
       "      <td>5</td>\n",
       "      <td>1</td>\n",
       "    </tr>\n",
       "    <tr>\n",
       "      <th>top</th>\n",
       "      <td>Female</td>\n",
       "      <td>Business Systems Development Analyst</td>\n",
       "      <td>Manufacturing</td>\n",
       "      <td>Mass Customer</td>\n",
       "      <td>Yes</td>\n",
       "      <td>NSW</td>\n",
       "      <td>Australia</td>\n",
       "    </tr>\n",
       "    <tr>\n",
       "      <th>freq</th>\n",
       "      <td>2037</td>\n",
       "      <td>45</td>\n",
       "      <td>799</td>\n",
       "      <td>2000</td>\n",
       "      <td>2024</td>\n",
       "      <td>2052</td>\n",
       "      <td>3995</td>\n",
       "    </tr>\n",
       "  </tbody>\n",
       "</table>\n",
       "</div>"
      ],
      "text/plain": [
       "        gender                             job_title job_industry_category  \\\n",
       "count     3999                                  3493                  3343   \n",
       "unique       6                                   195                     9   \n",
       "top     Female  Business Systems Development Analyst         Manufacturing   \n",
       "freq      2037                                    45                   799   \n",
       "\n",
       "       wealth_segment owns_car state    country  \n",
       "count            3999     3999  3995       3995  \n",
       "unique              3        2     5          1  \n",
       "top     Mass Customer      Yes   NSW  Australia  \n",
       "freq             2000     2024  2052       3995  "
      ]
     },
     "execution_count": 7,
     "metadata": {},
     "output_type": "execute_result"
    }
   ],
   "source": [
    "train_data.describe(include=['O'])"
   ]
  },
  {
   "cell_type": "markdown",
   "metadata": {},
   "source": [
    "## 2. Data Preprocessing"
   ]
  },
  {
   "cell_type": "code",
   "execution_count": 8,
   "metadata": {},
   "outputs": [],
   "source": [
    "train_data = train_data.drop(['customer_id','country'], 1)\n",
    "test_data = test_data.drop(['country'], 1)"
   ]
  },
  {
   "cell_type": "code",
   "execution_count": 9,
   "metadata": {},
   "outputs": [
    {
     "name": "stdout",
     "output_type": "stream",
     "text": [
      "Training data :  (3999, 14)\n",
      "Test data :  (1000, 11)\n"
     ]
    }
   ],
   "source": [
    "#Shapes of the dataset\n",
    "print(\"Training data : \", train_data.shape)\n",
    "print(\"Test data : \",  test_data.shape)"
   ]
  },
  {
   "cell_type": "markdown",
   "metadata": {},
   "source": [
    "Dropped country (only 1 unique value) and customer_id (irrelevant to model). Training data should have 3 less features (RFM)."
   ]
  },
  {
   "cell_type": "markdown",
   "metadata": {},
   "source": [
    "**Sort into Continous or Discrete**"
   ]
  },
  {
   "cell_type": "code",
   "execution_count": 10,
   "metadata": {},
   "outputs": [
    {
     "data": {
      "text/plain": [
       "['past_3_years_bike_related_purchases',\n",
       " 'Age',\n",
       " 'tenure',\n",
       " 'postcode',\n",
       " 'property_valuation',\n",
       " 'R',\n",
       " 'M',\n",
       " 'F']"
      ]
     },
     "execution_count": 10,
     "metadata": {},
     "output_type": "execute_result"
    }
   ],
   "source": [
    "numerical=[features for features in train_data.columns if train_data[features].dtypes!='O']\n",
    "numerical"
   ]
  },
  {
   "cell_type": "code",
   "execution_count": 11,
   "metadata": {},
   "outputs": [
    {
     "data": {
      "text/plain": [
       "['tenure', 'property_valuation']"
      ]
     },
     "execution_count": 11,
     "metadata": {},
     "output_type": "execute_result"
    }
   ],
   "source": [
    "discrete=[feature for feature in numerical if len(train_data[feature].unique())<25] #less than 25 unique values\n",
    "discrete"
   ]
  },
  {
   "cell_type": "code",
   "execution_count": 12,
   "metadata": {},
   "outputs": [
    {
     "data": {
      "text/plain": [
       "['gender',\n",
       " 'job_title',\n",
       " 'job_industry_category',\n",
       " 'wealth_segment',\n",
       " 'owns_car',\n",
       " 'state']"
      ]
     },
     "execution_count": 12,
     "metadata": {},
     "output_type": "execute_result"
    }
   ],
   "source": [
    "categorical = [feature for feature in train_data.columns if feature not in numerical]\n",
    "categorical"
   ]
  },
  {
   "cell_type": "code",
   "execution_count": 13,
   "metadata": {},
   "outputs": [
    {
     "data": {
      "text/plain": [
       "['gender',\n",
       " 'job_title',\n",
       " 'job_industry_category',\n",
       " 'wealth_segment',\n",
       " 'owns_car',\n",
       " 'state',\n",
       " 'tenure',\n",
       " 'property_valuation']"
      ]
     },
     "execution_count": 13,
     "metadata": {},
     "output_type": "execute_result"
    }
   ],
   "source": [
    "categorical = categorical + discrete\n",
    "categorical"
   ]
  },
  {
   "cell_type": "code",
   "execution_count": 14,
   "metadata": {},
   "outputs": [
    {
     "name": "stdout",
     "output_type": "stream",
     "text": [
      "['F' 'Male' 'Female' 'Femal' 'M' 'U']\n",
      "['Executive Secretary' 'Administrative Officer' nan 'Recruiting Manager'\n",
      " 'Senior Editor' 'Media Manager I' 'Business Systems Development Analyst'\n",
      " 'Nuclear Power Engineer' 'Senior Quality Engineer' 'Developer I'\n",
      " 'Account Executive' 'Junior Executive' 'Media Manager IV'\n",
      " 'Sales Associate' 'Professor' 'Geological Engineer' 'Project Manager'\n",
      " 'Safety Technician I' 'Research Assistant I' 'Accounting Assistant III'\n",
      " 'Editor' 'Research Nurse' 'Safety Technician III' 'Staff Accountant III'\n",
      " 'Legal Assistant' 'Product Engineer' 'Information Systems Manager'\n",
      " 'VP Quality Control' 'Social Worker' 'Senior Cost Accountant'\n",
      " 'Assistant Media Planner' 'Payment Adjustment Coordinator' 'Food Chemist'\n",
      " 'Accountant III' 'Director of Sales' 'Senior Financial Analyst'\n",
      " 'Registered Nurse' 'Biostatistician II' 'Computer Systems Analyst II'\n",
      " 'Software Test Engineer II' 'Paralegal' 'VP Sales'\n",
      " 'Chief Design Engineer' 'Office Assistant III'\n",
      " 'Physical Therapy Assistant' 'Help Desk Operator' 'Web Developer II'\n",
      " 'Research Associate' 'Teacher' 'VP Product Management' 'Statistician II'\n",
      " 'Automation Specialist IV' 'Data Coordiator' 'Software Test Engineer III'\n",
      " 'Internal Auditor' 'Analyst Programmer' 'Occupational Therapist'\n",
      " 'Speech Pathologist' 'Quality Control Specialist' 'Civil Engineer'\n",
      " 'Software Engineer III' 'Community Outreach Specialist'\n",
      " 'Safety Technician IV' 'VP Accounting' 'General Manager'\n",
      " 'Nurse Practicioner' 'Automation Specialist II' 'Marketing Assistant'\n",
      " 'Marketing Manager' 'Staff Scientist' 'Assistant Professor'\n",
      " 'Budget/Accounting Analyst IV' 'Associate Professor' 'Graphic Designer'\n",
      " 'Administrative Assistant II' 'Compensation Analyst'\n",
      " 'Systems Administrator III' 'Financial Advisor' 'Chemical Engineer'\n",
      " 'Web Designer I' 'Senior Developer' 'Office Assistant II' 'Recruiter'\n",
      " 'Operator' 'Programmer Analyst III' 'Quality Engineer'\n",
      " 'Environmental Tech' 'Analog Circuit Design manager' 'Cost Accountant'\n",
      " 'Librarian' 'Structural Analysis Engineer' 'Pharmacist'\n",
      " 'Assistant Manager' 'Accountant I' 'Web Designer III' 'Geologist III'\n",
      " 'Software Test Engineer I' 'Structural Engineer' 'Safety Technician II'\n",
      " 'Web Developer III' 'Programmer Analyst II' 'Design Engineer'\n",
      " 'Statistician I' 'VP Marketing' 'Desktop Support Technician' 'Actuary'\n",
      " 'Database Administrator III' 'Electrical Engineer' 'Tax Accountant'\n",
      " 'Clinical Specialist' 'Database Administrator IV'\n",
      " 'Systems Administrator II' 'Account Coordinator' 'Programmer III'\n",
      " 'Administrative Assistant III' 'Nurse' 'Technical Writer'\n",
      " 'Staff Accountant II' 'Dental Hygienist' 'Sales Representative'\n",
      " 'Budget/Accounting Analyst III' 'Computer Systems Analyst IV'\n",
      " 'Geologist I' 'Financial Analyst' 'Accounting Assistant II'\n",
      " 'Senior Sales Associate' 'Database Administrator II' 'Engineer I'\n",
      " 'Budget/Accounting Analyst I' 'Developer IV' 'Database Administrator I'\n",
      " 'Environmental Specialist' 'Computer Systems Analyst I'\n",
      " 'Account Representative IV' 'Statistician IV' 'Human Resources Manager'\n",
      " 'GIS Technical Architect' 'Programmer IV' 'Accounting Assistant IV'\n",
      " 'Software Engineer IV' 'Programmer II' 'Engineer III'\n",
      " 'Software Consultant' 'Biostatistician IV' 'Help Desk Technician'\n",
      " 'Automation Specialist I' 'Developer III' 'Human Resources Assistant I'\n",
      " 'Geologist IV' 'Media Manager II' 'Statistician III' 'Engineer II'\n",
      " 'Health Coach II' 'Developer II' 'Systems Administrator I'\n",
      " 'Web Developer I' 'Software Engineer II' 'Accounting Assistant I'\n",
      " 'Research Assistant II' 'Programmer Analyst IV' 'Health Coach I'\n",
      " 'Accountant II' 'Automation Specialist III' 'Administrative Assistant I'\n",
      " 'Health Coach IV' 'Media Manager III' 'Account Representative III'\n",
      " 'Web Designer IV' 'Budget/Accounting Analyst II' 'Web Developer IV'\n",
      " 'Programmer I' 'Biostatistician III' 'Software Test Engineer IV'\n",
      " 'Research Assistant IV' 'Account Representative I' 'Accountant IV'\n",
      " 'Biostatistician I' 'Human Resources Assistant IV'\n",
      " 'Administrative Assistant IV' 'Office Assistant I'\n",
      " 'Human Resources Assistant II' 'Mechanical Systems Engineer'\n",
      " 'Engineer IV' 'Health Coach III' 'Office Assistant IV'\n",
      " 'Software Engineer I' 'Human Resources Assistant III'\n",
      " 'Staff Accountant I' 'Computer Systems Analyst III' 'Geologist II'\n",
      " 'Web Designer II' 'Staff Accountant IV' 'Account Representative II'\n",
      " 'Programmer Analyst I' 'Systems Administrator IV'\n",
      " 'Research Assistant III']\n",
      "['Health' 'Financial Services' 'IT' 'Property' nan 'Retail' 'Argiculture'\n",
      " 'Manufacturing' 'Telecommunications' 'Entertainment']\n",
      "['Mass Customer' 'Affluent Customer' 'High Net Worth']\n",
      "['Yes' 'No']\n",
      "['New South Wales' 'QLD' nan 'VIC' 'NSW' 'Victoria']\n",
      "[11. 16.  7. 15.  8. 13.  9. 20.  6.  1. 18. 21. 12. 19. 14.  4. 22.  5.\n",
      " 17.  2.  3. 10. nan]\n",
      "[10.  9. nan  4. 12.  8.  6.  7.  3.  5. 11.  1.  2.]\n"
     ]
    }
   ],
   "source": [
    "for i in categorical:\n",
    "    print(train_data[i].unique())"
   ]
  },
  {
   "cell_type": "markdown",
   "metadata": {},
   "source": [
    "**Aggregate Duplicate Values**"
   ]
  },
  {
   "cell_type": "code",
   "execution_count": 15,
   "metadata": {},
   "outputs": [
    {
     "data": {
      "text/plain": [
       "Female    2037\n",
       "Male      1872\n",
       "U           87\n",
       "M            1\n",
       "F            1\n",
       "Femal        1\n",
       "Name: gender, dtype: int64"
      ]
     },
     "execution_count": 15,
     "metadata": {},
     "output_type": "execute_result"
    }
   ],
   "source": [
    "train_data['gender'].value_counts()"
   ]
  },
  {
   "cell_type": "code",
   "execution_count": 16,
   "metadata": {},
   "outputs": [],
   "source": [
    "datasets = [train_data, test_data]\n",
    "\n",
    "for i in datasets:\n",
    "    \n",
    "    i.loc[i['state'] == 'New South Wales', 'state'] = 'NSW'\n",
    "    i.loc[i['state'] == 'Victoria', 'state'] = 'VIC'\n",
    "    i.loc[i['gender'] == 'Femal', 'gender'] = 'Female'\n",
    "    i.loc[i['gender'] == 'F', 'gender'] = 'Female'\n",
    "    i.loc[i['gender'] == 'M', 'gender'] = 'Male'"
   ]
  },
  {
   "cell_type": "code",
   "execution_count": 17,
   "metadata": {},
   "outputs": [
    {
     "data": {
      "text/plain": [
       "Female    2039\n",
       "Male      1873\n",
       "U           87\n",
       "Name: gender, dtype: int64"
      ]
     },
     "execution_count": 17,
     "metadata": {},
     "output_type": "execute_result"
    }
   ],
   "source": [
    "train_data['gender'].value_counts()"
   ]
  },
  {
   "cell_type": "code",
   "execution_count": 18,
   "metadata": {},
   "outputs": [
    {
     "data": {
      "text/plain": [
       "NSW    2138\n",
       "VIC    1021\n",
       "QLD     836\n",
       "Name: state, dtype: int64"
      ]
     },
     "execution_count": 18,
     "metadata": {},
     "output_type": "execute_result"
    }
   ],
   "source": [
    "train_data['state'].value_counts()"
   ]
  },
  {
   "cell_type": "markdown",
   "metadata": {},
   "source": [
    "**Drop null RFM and Geographic values**"
   ]
  },
  {
   "cell_type": "code",
   "execution_count": 19,
   "metadata": {},
   "outputs": [],
   "source": [
    "train_data = train_data.dropna(subset=['R','F','M'])\n",
    "\n",
    "train_data = train_data.dropna(subset=['postcode','state','property_valuation'])"
   ]
  },
  {
   "cell_type": "code",
   "execution_count": 20,
   "metadata": {},
   "outputs": [
    {
     "data": {
      "text/plain": [
       "gender                                   0\n",
       "past_3_years_bike_related_purchases      0\n",
       "Age                                      0\n",
       "job_title                              421\n",
       "job_industry_category                  560\n",
       "wealth_segment                           0\n",
       "owns_car                                 0\n",
       "tenure                                  76\n",
       "postcode                                 0\n",
       "state                                    0\n",
       "property_valuation                       0\n",
       "R                                        0\n",
       "M                                        0\n",
       "F                                        0\n",
       "dtype: int64"
      ]
     },
     "execution_count": 20,
     "metadata": {},
     "output_type": "execute_result"
    }
   ],
   "source": [
    "train_data.isnull().sum()"
   ]
  },
  {
   "cell_type": "markdown",
   "metadata": {},
   "source": [
    "**Imputing for Tenure**"
   ]
  },
  {
   "cell_type": "code",
   "execution_count": 21,
   "metadata": {},
   "outputs": [
    {
     "data": {
      "text/plain": [
       "<AxesSubplot:xlabel='tenure'>"
      ]
     },
     "execution_count": 21,
     "metadata": {},
     "output_type": "execute_result"
    },
    {
     "data": {
      "image/png": "[encoded data removed]",
      "text/plain": [
       "<Figure size 432x288 with 1 Axes>"
      ]
     },
     "metadata": {
      "needs_background": "light"
     },
     "output_type": "display_data"
    }
   ],
   "source": [
    "sns.distplot(train_data['tenure'].dropna(), kde=False)"
   ]
  },
  {
   "cell_type": "code",
   "execution_count": 22,
   "metadata": {},
   "outputs": [
    {
     "data": {
      "text/plain": [
       "<AxesSubplot:xlabel='Age'>"
      ]
     },
     "execution_count": 22,
     "metadata": {},
     "output_type": "execute_result"
    },
    {
     "data": {
      "image/png": "[encoded data removed]",
      "text/plain": [
       "<Figure size 432x288 with 1 Axes>"
      ]
     },
     "metadata": {
      "needs_background": "light"
     },
     "output_type": "display_data"
    }
   ],
   "source": [
    "sns.distplot(test_data['Age'].dropna(), kde=False)"
   ]
  },
  {
   "cell_type": "markdown",
   "metadata": {},
   "source": [
    "Even distribution, will impute with mean."
   ]
  },
  {
   "cell_type": "code",
   "execution_count": 23,
   "metadata": {},
   "outputs": [],
   "source": [
    "train_data['tenure'] = train_data['tenure'].fillna(train_data['tenure'].mean())\n",
    "test_data['tenure'] = test_data['tenure'].fillna(test_data['tenure'].mean())\n",
    "\n",
    "test_data['Age'] = test_data['Age'].fillna(test_data['Age'].mean())"
   ]
  },
  {
   "cell_type": "markdown",
   "metadata": {},
   "source": [
    "**Fill all null**"
   ]
  },
  {
   "cell_type": "code",
   "execution_count": 24,
   "metadata": {},
   "outputs": [
    {
     "data": {
      "text/plain": [
       "gender                                   0\n",
       "past_3_years_bike_related_purchases      0\n",
       "Age                                      0\n",
       "job_title                              421\n",
       "job_industry_category                  560\n",
       "wealth_segment                           0\n",
       "owns_car                                 0\n",
       "tenure                                   0\n",
       "postcode                                 0\n",
       "state                                    0\n",
       "property_valuation                       0\n",
       "R                                        0\n",
       "M                                        0\n",
       "F                                        0\n",
       "dtype: int64"
      ]
     },
     "execution_count": 24,
     "metadata": {},
     "output_type": "execute_result"
    }
   ],
   "source": [
    "train_data.isnull().sum()"
   ]
  },
  {
   "cell_type": "code",
   "execution_count": 25,
   "metadata": {},
   "outputs": [
    {
     "data": {
      "text/plain": [
       "gender                                   0\n",
       "past_3_years_bike_related_purchases      0\n",
       "Age                                      0\n",
       "job_title                              106\n",
       "job_industry_category                  165\n",
       "wealth_segment                           0\n",
       "owns_car                                 0\n",
       "tenure                                   0\n",
       "postcode                                 0\n",
       "state                                    0\n",
       "property_valuation                       0\n",
       "dtype: int64"
      ]
     },
     "execution_count": 25,
     "metadata": {},
     "output_type": "execute_result"
    }
   ],
   "source": [
    "test_data.isnull().sum()"
   ]
  },
  {
   "cell_type": "markdown",
   "metadata": {},
   "source": [
    "## 3. EDA"
   ]
  },
  {
   "cell_type": "markdown",
   "metadata": {},
   "source": [
    "**Clustering**"
   ]
  },
  {
   "cell_type": "code",
   "execution_count": 26,
   "metadata": {},
   "outputs": [],
   "source": [
    "X = train_data[['R','F','M']]"
   ]
  },
  {
   "cell_type": "code",
   "execution_count": 27,
   "metadata": {},
   "outputs": [
    {
     "data": {
      "text/plain": [
       "<AxesSubplot:>"
      ]
     },
     "execution_count": 27,
     "metadata": {},
     "output_type": "execute_result"
    },
    {
     "data": {
      "image/png": "[encoded data removed]",
      "text/plain": [
       "<Figure size 432x288 with 2 Axes>"
      ]
     },
     "metadata": {
      "needs_background": "light"
     },
     "output_type": "display_data"
    }
   ],
   "source": [
    "sns.heatmap(X.corr())"
   ]
  },
  {
   "cell_type": "code",
   "execution_count": 28,
   "metadata": {},
   "outputs": [
    {
     "data": {
      "image/png": "[encoded data removed]",
      "text/plain": [
       "<Figure size 432x288 with 1 Axes>"
      ]
     },
     "metadata": {
      "needs_background": "light"
     },
     "output_type": "display_data"
    },
    {
     "data": {
      "image/png": "[encoded data removed]",
      "text/plain": [
       "<Figure size 432x288 with 1 Axes>"
      ]
     },
     "metadata": {
      "needs_background": "light"
     },
     "output_type": "display_data"
    },
    {
     "data": {
      "image/png": "[encoded data removed]",
      "text/plain": [
       "<Figure size 432x288 with 1 Axes>"
      ]
     },
     "metadata": {
      "needs_background": "light"
     },
     "output_type": "display_data"
    }
   ],
   "source": [
    "set1 = ['R','F','M']\n",
    "\n",
    "for i in set1:\n",
    "    sns.distplot(train_data[i])  \n",
    "    plt.title(i)\n",
    "    plt.show()"
   ]
  },
  {
   "cell_type": "markdown",
   "metadata": {},
   "source": [
    "**Scaling**"
   ]
  },
  {
   "cell_type": "code",
   "execution_count": 29,
   "metadata": {},
   "outputs": [],
   "source": [
    "scaler = MinMaxScaler()\n",
    "X = scaler.fit_transform(X)"
   ]
  },
  {
   "cell_type": "code",
   "execution_count": 51,
   "metadata": {},
   "outputs": [],
   "source": [
    "model = KMeans(n_clusters=5, random_state=2).fit(X)"
   ]
  },
  {
   "cell_type": "markdown",
   "metadata": {},
   "source": [
    "**Determining Optimal Clusters**"
   ]
  },
  {
   "cell_type": "code",
   "execution_count": 31,
   "metadata": {},
   "outputs": [
    {
     "data": {
      "image/png": "[encoded data removed]",
      "text/plain": [
       "<Figure size 432x288 with 1 Axes>"
      ]
     },
     "metadata": {
      "needs_background": "light"
     },
     "output_type": "display_data"
    }
   ],
   "source": [
    "inertia = []\n",
    "for k in range (2,20):\n",
    "    kmeans = KMeans(n_clusters=k, random_state=2).fit(X)\n",
    "    inertia.append(kmeans.inertia_)\n",
    "    \n",
    "sns.pointplot(x=list(range(2,20)), y=inertia)\n",
    "plt.show()"
   ]
  },
  {
   "cell_type": "markdown",
   "metadata": {},
   "source": [
    "K = 5 should be optimal"
   ]
  },
  {
   "cell_type": "code",
   "execution_count": 32,
   "metadata": {},
   "outputs": [],
   "source": [
    "rfm_norm = pd.DataFrame(X)\n",
    "rfm = pd.DataFrame(scaler.inverse_transform(X))\n",
    "X = train_data[['R','F','M']]\n",
    "rfm.columns = X.columns\n",
    "rfm_norm.columns = X.columns\n",
    "rfm['cluster'] = model.labels_"
   ]
  },
  {
   "cell_type": "code",
   "execution_count": 53,
   "metadata": {},
   "outputs": [
    {
     "data": {
      "text/html": [
       "<div>\n",
       "<style scoped>\n",
       "    .dataframe tbody tr th:only-of-type {\n",
       "        vertical-align: middle;\n",
       "    }\n",
       "\n",
       "    .dataframe tbody tr th {\n",
       "        vertical-align: top;\n",
       "    }\n",
       "\n",
       "    .dataframe thead tr th {\n",
       "        text-align: left;\n",
       "    }\n",
       "\n",
       "    .dataframe thead tr:last-of-type th {\n",
       "        text-align: right;\n",
       "    }\n",
       "</style>\n",
       "<table border=\"1\" class=\"dataframe\">\n",
       "  <thead>\n",
       "    <tr>\n",
       "      <th></th>\n",
       "      <th>R</th>\n",
       "      <th>F</th>\n",
       "      <th colspan=\"2\" halign=\"left\">M</th>\n",
       "    </tr>\n",
       "    <tr>\n",
       "      <th></th>\n",
       "      <th>mean</th>\n",
       "      <th>mean</th>\n",
       "      <th>mean</th>\n",
       "      <th>count</th>\n",
       "    </tr>\n",
       "    <tr>\n",
       "      <th>cluster</th>\n",
       "      <th></th>\n",
       "      <th></th>\n",
       "      <th></th>\n",
       "      <th></th>\n",
       "    </tr>\n",
       "  </thead>\n",
       "  <tbody>\n",
       "    <tr>\n",
       "      <th>0</th>\n",
       "      <td>1509.491180</td>\n",
       "      <td>78.970492</td>\n",
       "      <td>526.326445</td>\n",
       "      <td>610</td>\n",
       "    </tr>\n",
       "    <tr>\n",
       "      <th>1</th>\n",
       "      <td>1555.985086</td>\n",
       "      <td>14.077263</td>\n",
       "      <td>481.030914</td>\n",
       "      <td>906</td>\n",
       "    </tr>\n",
       "    <tr>\n",
       "      <th>2</th>\n",
       "      <td>1591.252952</td>\n",
       "      <td>81.686064</td>\n",
       "      <td>619.645817</td>\n",
       "      <td>653</td>\n",
       "    </tr>\n",
       "    <tr>\n",
       "      <th>3</th>\n",
       "      <td>1566.988770</td>\n",
       "      <td>47.407090</td>\n",
       "      <td>428.914345</td>\n",
       "      <td>818</td>\n",
       "    </tr>\n",
       "    <tr>\n",
       "      <th>4</th>\n",
       "      <td>1542.198593</td>\n",
       "      <td>34.206000</td>\n",
       "      <td>851.166531</td>\n",
       "      <td>500</td>\n",
       "    </tr>\n",
       "  </tbody>\n",
       "</table>\n",
       "</div>"
      ],
      "text/plain": [
       "                   R          F           M      \n",
       "                mean       mean        mean count\n",
       "cluster                                          \n",
       "0        1509.491180  78.970492  526.326445   610\n",
       "1        1555.985086  14.077263  481.030914   906\n",
       "2        1591.252952  81.686064  619.645817   653\n",
       "3        1566.988770  47.407090  428.914345   818\n",
       "4        1542.198593  34.206000  851.166531   500"
      ]
     },
     "execution_count": 53,
     "metadata": {},
     "output_type": "execute_result"
    }
   ],
   "source": [
    "rfm.groupby('cluster').agg(({\n",
    "    'R':['mean'],\n",
    "    'F':['mean'],\n",
    "    'M':['mean','count'],\n",
    "}))\n",
    "\n",
    "#'M':['mean', 'min', 'max', 'count']"
   ]
  },
  {
   "attachments": {},
   "cell_type": "markdown",
   "metadata": {},
   "source": [
    "Cluster 2 can be identified as the most valuable group as it has the highest mean F (highest frequency of purchases) and also the second highest mean M (money spent). Cluster 4 may have the highest mean M but has the second lowest mean F. Mean R(recency) has very little variation between the clusters."
   ]
  },
  {
   "cell_type": "code",
   "execution_count": 52,
   "metadata": {},
   "outputs": [
    {
     "data": {
      "text/plain": [
       "Text(0.5, 0.92, 'RFM Clustering')"
      ]
     },
     "execution_count": 52,
     "metadata": {},
     "output_type": "execute_result"
    },
    {
     "data": {
      "image/png": "[encoded data removed]",
      "text/plain": [
       "<Figure size 432x288 with 1 Axes>"
      ]
     },
     "metadata": {
      "needs_background": "light"
     },
     "output_type": "display_data"
    }
   ],
   "source": [
    "center = model.cluster_centers_\n",
    "fig = plt.figure()\n",
    "ax = fig.add_subplot(111, projection = '3d')\n",
    "ax.scatter(rfm_norm['R'], rfm_norm['F'], rfm_norm['M'], cmap = \"brg\", c=model.predict(X))\n",
    "#ax.scatter(center[:, 0], center[:, 1], c='black');\n",
    "ax.set_xlabel(\"R\")\n",
    "ax.set_ylabel(\"F\")\n",
    "ax.set_zlabel(\"M\")\n",
    "plt.title(\"RFM Clustering\")"
   ]
  },
  {
   "cell_type": "markdown",
   "metadata": {},
   "source": [
    "## 4. ML Modelling"
   ]
  },
  {
   "cell_type": "code",
   "execution_count": 35,
   "metadata": {},
   "outputs": [
    {
     "data": {
      "text/plain": [
       "0      4500\n",
       "1      2113\n",
       "2      3505\n",
       "3      4814\n",
       "4      2093\n",
       "       ... \n",
       "995    2200\n",
       "996    2196\n",
       "997    4702\n",
       "998    4215\n",
       "999    2010\n",
       "Name: postcode, Length: 1000, dtype: object"
      ]
     },
     "execution_count": 35,
     "metadata": {},
     "output_type": "execute_result"
    }
   ],
   "source": [
    "train_data['tenure'].astype(str)\n",
    "train_data['property_valuation'].astype(str)\n",
    "train_data['postcode'].astype(str)\n",
    "\n",
    "test_data['tenure'].astype(str)\n",
    "test_data['property_valuation'].astype(str)\n",
    "test_data['postcode'].astype(str)\n"
   ]
  },
  {
   "cell_type": "code",
   "execution_count": 36,
   "metadata": {},
   "outputs": [
    {
     "name": "stdout",
     "output_type": "stream",
     "text": [
      "<class 'pandas.core.frame.DataFrame'>\n",
      "Int64Index: 3487 entries, 0 to 3498\n",
      "Data columns (total 14 columns):\n",
      " #   Column                               Non-Null Count  Dtype  \n",
      "---  ------                               --------------  -----  \n",
      " 0   gender                               3487 non-null   object \n",
      " 1   past_3_years_bike_related_purchases  3487 non-null   int64  \n",
      " 2   Age                                  3487 non-null   float64\n",
      " 3   job_title                            3066 non-null   object \n",
      " 4   job_industry_category                2927 non-null   object \n",
      " 5   wealth_segment                       3487 non-null   object \n",
      " 6   owns_car                             3487 non-null   object \n",
      " 7   tenure                               3487 non-null   float64\n",
      " 8   postcode                             3487 non-null   float64\n",
      " 9   state                                3487 non-null   object \n",
      " 10  property_valuation                   3487 non-null   float64\n",
      " 11  R                                    3487 non-null   float64\n",
      " 12  M                                    3487 non-null   float64\n",
      " 13  F                                    3487 non-null   int64  \n",
      "dtypes: float64(6), int64(2), object(6)\n",
      "memory usage: 408.6+ KB\n"
     ]
    }
   ],
   "source": [
    "train_data.info()"
   ]
  },
  {
   "cell_type": "code",
   "execution_count": 37,
   "metadata": {},
   "outputs": [
    {
     "data": {
      "text/plain": [
       "['gender',\n",
       " 'past_3_years_bike_related_purchases',\n",
       " 'Age',\n",
       " 'job_title',\n",
       " 'job_industry_category',\n",
       " 'wealth_segment',\n",
       " 'owns_car',\n",
       " 'tenure',\n",
       " 'postcode',\n",
       " 'state',\n",
       " 'property_valuation',\n",
       " 'R',\n",
       " 'M',\n",
       " 'F']"
      ]
     },
     "execution_count": 37,
     "metadata": {},
     "output_type": "execute_result"
    }
   ],
   "source": [
    "All=[features for features in train_data.columns]\n",
    "All"
   ]
  },
  {
   "cell_type": "code",
   "execution_count": 38,
   "metadata": {},
   "outputs": [],
   "source": [
    "X_train = train_data[['gender',\n",
    " 'past_3_years_bike_related_purchases',\n",
    " 'Age',\n",
    " 'job_title',\n",
    " 'job_industry_category',\n",
    " 'wealth_segment',\n",
    " 'owns_car',\n",
    " 'tenure',\n",
    " 'postcode',\n",
    " 'state',\n",
    " 'property_valuation']].copy()\n",
    "\n",
    "X_test = test_data[['gender',\n",
    " 'past_3_years_bike_related_purchases',\n",
    " 'Age',\n",
    " 'job_title',\n",
    " 'job_industry_category',\n",
    " 'wealth_segment',\n",
    " 'owns_car',\n",
    " 'tenure',\n",
    " 'postcode',\n",
    " 'state',\n",
    " 'property_valuation']].copy()\n",
    "\n",
    "y = rfm['cluster'].copy()"
   ]
  },
  {
   "cell_type": "code",
   "execution_count": 39,
   "metadata": {},
   "outputs": [],
   "source": [
    "y = pd.get_dummies(y)"
   ]
  },
  {
   "cell_type": "code",
   "execution_count": 40,
   "metadata": {},
   "outputs": [],
   "source": [
    "X_train[['past_3_years_bike_related_purchases','Age']]= StandardScaler().fit_transform(X_train[['past_3_years_bike_related_purchases','Age']])\n",
    "X_test[['past_3_years_bike_related_purchases','Age']]= StandardScaler().fit_transform(X_test[['past_3_years_bike_related_purchases','Age']])"
   ]
  },
  {
   "cell_type": "code",
   "execution_count": 41,
   "metadata": {},
   "outputs": [
    {
     "data": {
      "text/plain": [
       "gender                                   0\n",
       "past_3_years_bike_related_purchases      0\n",
       "Age                                      0\n",
       "job_title                              421\n",
       "job_industry_category                  560\n",
       "wealth_segment                           0\n",
       "owns_car                                 0\n",
       "tenure                                   0\n",
       "postcode                                 0\n",
       "state                                    0\n",
       "property_valuation                       0\n",
       "dtype: int64"
      ]
     },
     "execution_count": 41,
     "metadata": {},
     "output_type": "execute_result"
    }
   ],
   "source": [
    "X_train.isnull().sum()"
   ]
  },
  {
   "cell_type": "code",
   "execution_count": 42,
   "metadata": {},
   "outputs": [],
   "source": [
    "train_data.fillna('None', inplace=True)\n",
    "test_data.fillna('None', inplace=True)"
   ]
  },
  {
   "cell_type": "code",
   "execution_count": 43,
   "metadata": {},
   "outputs": [],
   "source": [
    "encode=OneHotEncoder(handle_unknown='ignore')\n",
    "X_train=encode.fit_transform(train_data[['gender',\n",
    " 'past_3_years_bike_related_purchases',\n",
    " 'Age',\n",
    " 'job_title',\n",
    " 'job_industry_category',\n",
    " 'wealth_segment',\n",
    " 'owns_car',\n",
    " 'tenure',\n",
    " 'postcode',\n",
    " 'state',\n",
    " 'property_valuation']])\n",
    "X_test=encode.transform(test_data[['gender',\n",
    " 'past_3_years_bike_related_purchases',\n",
    " 'Age',\n",
    " 'job_title',\n",
    " 'job_industry_category',\n",
    " 'wealth_segment',\n",
    " 'owns_car',\n",
    " 'tenure',\n",
    " 'postcode',\n",
    " 'state',\n",
    " 'property_valuation']])"
   ]
  },
  {
   "cell_type": "markdown",
   "metadata": {},
   "source": [
    "**Final Model**"
   ]
  },
  {
   "cell_type": "code",
   "execution_count": 44,
   "metadata": {},
   "outputs": [
    {
     "data": {
      "text/plain": [
       "RandomForestClassifier()"
      ]
     },
     "execution_count": 44,
     "metadata": {},
     "output_type": "execute_result"
    }
   ],
   "source": [
    "model = RandomForestClassifier()\n",
    "model.fit(X_train, y)"
   ]
  },
  {
   "cell_type": "code",
   "execution_count": 45,
   "metadata": {},
   "outputs": [
    {
     "name": "stdout",
     "output_type": "stream",
     "text": [
      "MAE scores:\n",
      " [1.68452722 2.71146132 2.20086083 2.20200861 2.78737446]\n",
      "Average MAE score (across experiments):\n",
      "2.3172464882241943\n"
     ]
    }
   ],
   "source": [
    "scores = -1 * cross_val_score(model, X, y,\n",
    "                              cv=5,\n",
    "                              scoring='neg_mean_absolute_error')\n",
    "\n",
    "print(\"MAE scores:\\n\", scores)\n",
    "\n",
    "print(\"Average MAE score (across experiments):\")\n",
    "print(scores.mean())"
   ]
  },
  {
   "cell_type": "code",
   "execution_count": 46,
   "metadata": {},
   "outputs": [],
   "source": [
    "test = model.predict(X_test)"
   ]
  },
  {
   "cell_type": "code",
   "execution_count": 47,
   "metadata": {},
   "outputs": [],
   "source": [
    "test = pd.DataFrame(test)\n",
    "test = test.idxmax(axis=1)"
   ]
  },
  {
   "cell_type": "code",
   "execution_count": 48,
   "metadata": {},
   "outputs": [],
   "source": [
    "test_data['cluster'] = test"
   ]
  },
  {
   "cell_type": "code",
   "execution_count": 49,
   "metadata": {},
   "outputs": [],
   "source": [
    "test_data.to_csv('submission.csv', index=False)"
   ]
  }
 ],
 "metadata": {
  "kernelspec": {
   "display_name": "Python 3",
   "language": "python",
   "name": "python3"
  },
  "language_info": {
   "codemirror_mode": {
    "name": "ipython",
    "version": 3
   },
   "file_extension": ".py",
   "mimetype": "text/x-python",
   "name": "python",
   "nbconvert_exporter": "python",
   "pygments_lexer": "ipython3",
   "version": "3.8.5"
  }
 },
 "nbformat": 4,
 "nbformat_minor": 4
}
